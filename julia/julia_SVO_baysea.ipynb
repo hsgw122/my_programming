{
 "cells": [
  {
   "cell_type": "code",
   "execution_count": 1,
   "metadata": {},
   "outputs": [
    {
     "name": "stdout",
     "output_type": "stream",
     "text": [
      "test"
     ]
    }
   ],
   "source": [
    "print(\"test\")"
   ]
  },
  {
   "attachments": {},
   "cell_type": "markdown",
   "metadata": {},
   "source": [
    "MY_C モジュール：全ての変数の定義、関数の定義を入れるところ"
   ]
  },
  {
   "cell_type": "code",
   "execution_count": 4,
   "metadata": {},
   "outputs": [
    {
     "data": {
      "text/plain": [
       "Main.MY_C"
      ]
     },
     "execution_count": 4,
     "metadata": {},
     "output_type": "execute_result"
    }
   ],
   "source": [
    "module MY_C\n",
    "\n",
    "  #examples:\n",
    "\n",
    "  #cannot change\n",
    "  struct testObject\n",
    "    NAME_this\n",
    "  end\n",
    "\n",
    "  #宣言の方法\n",
    "  function testObject(_NAME_this)\n",
    "    NAME_this = _NAME_this\n",
    "    return testObject(NAME_this)\n",
    "  end\n",
    "\n",
    "  #can change\n",
    "  mutable struct testObject_mut\n",
    "    NAME_this\n",
    "  end\n",
    "\n",
    "  function testObject_mut(_NAME_this)\n",
    "    NAME_this = _NAME_this\n",
    "    return testObject_mut(NAME_this)\n",
    "  end\n",
    "\n",
    "  function myPrint(m)\n",
    "    println(m)\n",
    "  end\n",
    "\n",
    "\n",
    "  #here newers:\n",
    "\n",
    "\n",
    "  #agent class\n",
    "  struct agentData\n",
    "    NAME\n",
    "    angle::Float64\n",
    "    self_w::Float64\n",
    "    other_w::Float64\n",
    "    strategy\n",
    "  end\n",
    "\n",
    "  function agentData(_NAME,_angle,_strategy)\n",
    "    NAME = _NAME\n",
    "    angle = _angle\n",
    "    strategy = _strategy\n",
    "    return agentData(NAME,angle,cos(pi / 180 * angle),sin(pi / 180 * angle),strategy)\n",
    "  end\n",
    "\n",
    "\n",
    "end"
   ]
  },
  {
   "cell_type": "code",
   "execution_count": 6,
   "metadata": {},
   "outputs": [
    {
     "name": "stdout",
     "output_type": "stream",
     "text": [
      "will\n"
     ]
    }
   ],
   "source": [
    "using .MY_C\n",
    "\n",
    "MY_C.myPrint(\"will\")\n"
   ]
  },
  {
   "attachments": {},
   "cell_type": "markdown",
   "metadata": {},
   "source": [
    "# 相手の行動は固定、よってリストで与えることに。エージェントの出力形式に合わせればよいか？\n",
    "\n",
    "やりたいことは、\n",
    "\n",
    "・Juliaで\n",
    "\n",
    "・相手のエージェントの行動はC（A、協力）固定の時に\n",
    "\n",
    "・囚人のジレンマゲームで、参加者がAとBをランダムに出力するとして、\n",
    "\n",
    "・10回、ゲームを行った場合に、\n",
    "\n",
    "・参加者の出力するランダム配列を全通り試し、相手のSVOの予測平均を出す。"
   ]
  },
  {
   "attachments": {},
   "cell_type": "markdown",
   "metadata": {},
   "source": [
    "# 用意すべきもの\n",
    "\n",
    "上記をするためには、\n",
    "\n",
    "・マトリックスの用意（エージェント固定なので、Aの2点、Bの3点が必要かな。あとは、エージェントの獲得点数。）\n",
    "\n",
    "・マトリックスからエージェントが出力する表情の計算\n",
    "\n",
    "・記録するための10列のリスト、および全パターン実行の保存先\n",
    "\n",
    "・模擬プレイヤーとして、AとBを出力する人。\n",
    "\n",
    "・ベイズ更新の関数、保存式"
   ]
  },
  {
   "attachments": {},
   "cell_type": "markdown",
   "metadata": {},
   "source": [
    "以下は、最低限の条件\n",
    "\n",
    "・エージェントの計算において、判定は下2桁でroundしたものを使う。\n",
    "\n",
    "・エージェントの出力する表情は、sad、neutral、joyの3種類である（数値化する方が良い）\n",
    "\n",
    "・実行された角度は、（今のところ）180.0、157.5、135.0、112.5～22.5、0.0、の5つであり、加えてneutral-neutralである。"
   ]
  },
  {
   "attachments": {},
   "cell_type": "markdown",
   "metadata": {},
   "source": [
    "# ページワン\n",
    "\n",
    "・実行する角度リスト\n",
    "\n",
    "・ジレンマゲームのマトリックス\n",
    "\n",
    "・表情出力関数"
   ]
  },
  {
   "cell_type": "code",
   "execution_count": 5,
   "metadata": {},
   "outputs": [
    {
     "name": "stdout",
     "output_type": "stream",
     "text": [
      "utility=2.0\n",
      "emotion=2\n"
     ]
    },
    {
     "data": {
      "text/plain": [
       "2"
      ]
     },
     "execution_count": 5,
     "metadata": {},
     "output_type": "execute_result"
    }
   ],
   "source": [
    "#cos(pi / 180 * angle)\n",
    "\n",
    "#実行する角度のリスト\n",
    "angleList = [180.0, 157.5, 135.0, 90.0, 0.0]\n",
    "\n",
    "#囚人のジレンマゲームのマトリックス\n",
    "dillemmaMatrix = [2,0,3,1]\n",
    "\n",
    "println(angleList[1])\n",
    "println(dillemmaMatrixList[1])\n",
    "\n",
    "\n",
    "#SVOから、表情を出力するfunction\n",
    "function EmotionExpressionfromSVO(selfWeight,otherWeight,selfValue,otherValue)\n",
    "\n",
    "    #重みから効用を計算。下2桁に。digitsで下何桁\n",
    "    utility = round(selfWeight * selfValue + otherWeight * otherValue,digits=2)\n",
    "    #println(\"utility=\",utility)\n",
    "\n",
    "    #判定のための変数\n",
    "    # 0 : bad\n",
    "    # 1 : neutral\n",
    "    # 2 : joy　としたよ。\n",
    "    emotion = 1\n",
    "\n",
    "    if utility > 0.0\n",
    "        emotion = 2\n",
    "    elseif utility < 0.0\n",
    "        emotion = 0\n",
    "    end\n",
    "    #println(\"emotion=\",emotion)\n",
    "\n",
    "    return emotion\n",
    "end\n",
    "\n",
    "EmotionExpressionfromSVO(1,0,2,2)\n"
   ]
  },
  {
   "attachments": {},
   "cell_type": "markdown",
   "metadata": {},
   "source": [
    "Juliaのインテリセンスが効かないときは、不便かもだが、環境が遅い可能性あり。拡張機能を確認し、いろいろと再起動すべし。"
   ]
  },
  {
   "attachments": {},
   "cell_type": "markdown",
   "metadata": {},
   "source": [
    "# <span style=\"font-size: 50%; color: black;\"> 角度を受け取り、SVOの重みに変換するfunction </span>"
   ]
  },
  {
   "cell_type": "code",
   "execution_count": 12,
   "metadata": {},
   "outputs": [
    {
     "name": "stdout",
     "output_type": "stream",
     "text": [
      "(-1.0, 1.2246467991473532e-16)"
     ]
    }
   ],
   "source": [
    "#角度を受け取り、重み2つを出力するfunction\n",
    "function WeightfromSVO(angleSVO)\n",
    "    return cos(pi / 180 * angleSVO),sin(pi / 180 * angleSVO)\n",
    "end\n",
    "\n",
    "print(WeightfromSVO(180))"
   ]
  },
  {
   "attachments": {},
   "cell_type": "markdown",
   "metadata": {},
   "source": [
    "# <span style=\"font-size: 50%; color: black;\"> ランダムにA(1)かB(2)かを出力する、プレイヤーfunction </span>"
   ]
  },
  {
   "cell_type": "code",
   "execution_count": 14,
   "metadata": {},
   "outputs": [
    {
     "data": {
      "text/plain": [
       "1"
      ]
     },
     "execution_count": 14,
     "metadata": {},
     "output_type": "execute_result"
    }
   ],
   "source": [
    "#1か2をランダムに出力するプレイヤーfunction\n",
    "function RandomofPlayer()\n",
    "    rate = rand(1:2)\n",
    "    #print(rate)\n",
    "    return rate\n",
    "end\n",
    "\n",
    "RandomofPlayer()"
   ]
  },
  {
   "attachments": {},
   "cell_type": "markdown",
   "metadata": {},
   "source": [
    "# ゲームを10回分実行するfunction\n",
    "\n",
    "・片方のエージェントは全て固定のA（1）しか選ばない。\n",
    "\n",
    "・プレイヤーはランダムに選択していく。"
   ]
  },
  {
   "cell_type": "code",
   "execution_count": 17,
   "metadata": {},
   "outputs": [
    {
     "name": "stdout",
     "output_type": "stream",
     "text": [
      "self=-1.0 : other=1.2246467991473532e-16\n",
      "round 1\n",
      "round 2\n",
      "round 3\n",
      "round 4\n",
      "round 5\n",
      "round 6\n",
      "round 7\n",
      "round 8\n",
      "round 9\n",
      "round 10\n"
     ]
    }
   ],
   "source": [
    "#ゲームを10回行うfunction\n",
    "#ゲームマトリックスと、エージェントのSVOを設定する必要がある。\n",
    "\n",
    "function PlayGame(gameMatrix,agentsSVOAngle,round_n=10)\n",
    "    #agentのSVO重みを計算\n",
    "    agentsSelfWeight, agentsOtherWeight = WeightfromSVO(agentsSVOAngle)\n",
    "    println(\"self=\", agentsSelfWeight, \" : other=\", agentsOtherWeight)\n",
    "\n",
    "    #指定のラウンド数まで実行する\n",
    "    for i in 1:round_n\n",
    "        #ラウンド数\n",
    "        println(\"round \",i)\n",
    "\n",
    "        \n",
    "\n",
    "    end\n",
    "end\n",
    "\n",
    "PlayGame(dillemmaMatrix,180.0)"
   ]
  },
  {
   "cell_type": "code",
   "execution_count": 1,
   "metadata": {},
   "outputs": [
    {
     "ename": "LoadError",
     "evalue": "syntax: extra token \"Statistics\" after end of expression",
     "output_type": "error",
     "traceback": [
      "syntax: extra token \"Statistics\" after end of expression",
      "",
      "Stacktrace:",
      " [1] top-level scope",
      "   @ In[1]:1",
      " [2] eval",
      "   @ .\\boot.jl:360 [inlined]",
      " [3] include_string(mapexpr::typeof(REPL.softscope), mod::Module, code::String, filename::String)",
      "   @ Base .\\loading.jl:1116"
     ]
    }
   ],
   "source": [
    "#使用前に\n",
    "#juliaのパッケージモード（最初の画面で、]を入力すると、pkgと出る。終了はdelキー）にて\n",
    "#add Statistics\n",
    "\n",
    "Using Statistics"
   ]
  },
  {
   "cell_type": "code",
   "execution_count": null,
   "metadata": {},
   "outputs": [],
   "source": []
  }
 ],
 "metadata": {
  "kernelspec": {
   "display_name": "Julia 1.7.3",
   "language": "julia",
   "name": "julia-1.7"
  },
  "language_info": {
   "file_extension": ".jl",
   "mimetype": "application/julia",
   "name": "julia",
   "version": "1.6.6"
  },
  "orig_nbformat": 4
 },
 "nbformat": 4,
 "nbformat_minor": 2
}
