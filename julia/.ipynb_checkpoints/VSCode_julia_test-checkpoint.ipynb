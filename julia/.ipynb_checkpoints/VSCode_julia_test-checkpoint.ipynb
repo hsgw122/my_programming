{
 "cells": [
  {
   "cell_type": "code",
   "execution_count": 1,
   "id": "d2cd923b",
   "metadata": {},
   "outputs": [
    {
     "name": "stdout",
     "output_type": "stream",
     "text": [
      "うんこ\n"
     ]
    }
   ],
   "source": [
    "println(\"うんこ\")"
   ]
  },
  {
   "cell_type": "code",
   "execution_count": null,
   "id": "26bdfc87",
   "metadata": {},
   "outputs": [],
   "source": []
  }
 ],
 "metadata": {
  "kernelspec": {
   "display_name": "Julia 1.7.3",
   "language": "julia",
   "name": "julia-1.7"
  },
  "language_info": {
   "file_extension": ".jl",
   "mimetype": "application/julia",
   "name": "julia",
   "version": "1.7.3"
  }
 },
 "nbformat": 4,
 "nbformat_minor": 5
}
