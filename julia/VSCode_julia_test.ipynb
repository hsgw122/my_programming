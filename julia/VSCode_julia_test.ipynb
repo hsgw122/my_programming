{
 "cells": [
  {
   "cell_type": "code",
   "execution_count": 7,
   "id": "d2cd923b",
   "metadata": {},
   "outputs": [
    {
     "name": "stdout",
     "output_type": "stream",
     "text": [
      "kfkfkf\n"
     ]
    }
   ],
   "source": [
    "println(\"kfkfkf\")"
   ]
  },
  {
   "cell_type": "code",
   "execution_count": 6,
   "id": "26bdfc87",
   "metadata": {},
   "outputs": [
    {
     "name": "stdout",
     "output_type": "stream",
     "text": [
      "jjff\n"
     ]
    }
   ],
   "source": [
    "println(\"jjff\")\n"
   ]
  },
  {
   "cell_type": "code",
   "execution_count": null,
   "id": "ca7cac28",
   "metadata": {},
   "outputs": [],
   "source": []
  }
 ],
 "metadata": {
  "kernelspec": {
   "display_name": "Julia 1.7.3",
   "language": "julia",
   "name": "julia-1.7"
  },
  "language_info": {
   "file_extension": ".jl",
   "mimetype": "application/julia",
   "name": "julia",
   "version": "1.7.3"
  }
 },
 "nbformat": 4,
 "nbformat_minor": 5
}
