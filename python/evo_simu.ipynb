{
 "cells": [
  {
   "cell_type": "markdown",
   "metadata": {
    "id": "d3JFtz9bc3Za"
   },
   "source": [
    "## import情報"
   ]
  },
  {
   "cell_type": "code",
   "execution_count": 1,
   "metadata": {
    "id": "7Try5tR1c3Os"
   },
   "outputs": [],
   "source": [
    "#乱数生成に使用する\n",
    "from numpy.random import *\n",
    "\n",
    "import numpy as np\n",
    "\n",
    "import matplotlib.pyplot as plt\n",
    "from matplotlib.pyplot import figure\n",
    "\n",
    "import math\n",
    "\n",
    "import time"
   ]
  },
  {
   "cell_type": "markdown",
   "metadata": {
    "id": "e-oU_GDpU8Tu"
   },
   "source": [
    "## 大まかな目標\n",
    "\n",
    "2×2マトリックスゲームで、2人のプレイヤー（エージェント）がそれぞれ戦略を持ち、戦略ごとに総当たり（一応、100回）で対戦を行う。その平均が、組み合わせでの獲得利得（報酬）である。これで、対戦による結果表を作る。\n",
    "\n",
    "次に、対戦結果表をもとに、初期人口を設定し、シミュレーションする（何世代でもOK）。まずは、この基礎手順を実装しよう。"
   ]
  },
  {
   "cell_type": "markdown",
   "metadata": {
    "id": "uIVbSi4UVg77"
   },
   "source": [
    "## クラスの定義\n",
    "\n",
    "さっそく、ゲームのプレイヤー（エージェント）を定義しよう。やることとしては、\n",
    "\n",
    "・最初は何を出すか\n",
    "\n",
    "・それ以降は何を出すか\n",
    "\n",
    "など、選択に関する関数を作ろう。ここが戦略にあたると思う。\n",
    "\n",
    "次に保存先。自分が100回対戦して得た得点とその対戦者、そして対戦回数（100回だろ、というのは野暮。どうせ回数変更するし）。\n",
    "これは、対戦者ごとに設定するのが良いかも。\n",
    "\n",
    "こうして出来上がったクラスを継承して、他の戦略エージェントを定義する。"
   ]
  },
  {
   "cell_type": "markdown",
   "metadata": {
    "id": "v2EK8cjyYGsT"
   },
   "source": [
    "下のclass、BaseAgentModelは、点数リスト、対戦相手リストを持ち、playによって今何ラウンド目かを表示するもの。ただ、やってみたら変わるかもしれない。"
   ]
  },
  {
   "cell_type": "code",
   "execution_count": 2,
   "metadata": {
    "id": "ubUn8OuYUbnM"
   },
   "outputs": [],
   "source": [
    "#すべての大本となるエージェントのclass\n",
    "class BaseAgentModel:\n",
    "\n",
    "  #自分の名前：\n",
    "  NAME = \"BaseAgentModel\"\n",
    "\n",
    "  #保存先：対戦して得た点数の配列\n",
    "  score_list = []\n",
    "\n",
    "  #保存先：対戦者のリスト配列\n",
    "  opponent_name_list = []\n",
    "\n",
    "  #保存先：対戦者の1個前の手\n",
    "  opponent_before_chose = []\n",
    "\n",
    "  #関数：初期化する\n",
    "  def listInit(self):\n",
    "    self.opponent_before_chose = []\n",
    "\n",
    "  #関数：（関数宣言で第一引数はselfにすること）\n",
    "  def play(self,round,matrix=[0,1,2,3,4,5,6,7]):\n",
    "\n",
    "    #0～1を返す乱数\n",
    "    chose = randint(2)\n",
    "    print(\"play: \",round,\" round: chose \",chose)\n",
    "\n",
    "    return chose\n",
    "\n",
    "  #関数：相手の手を記録する\n",
    "  def memo(self,opponent_chose,matrix=[0,1,2,3,4,5,6,7]):\n",
    "    self.opponent_before_chose = [opponent_chose]"
   ]
  },
  {
   "cell_type": "markdown",
   "metadata": {
    "id": "AmT1LKebYUuj"
   },
   "source": [
    "playをテストしてみた。よさそうだ。"
   ]
  },
  {
   "cell_type": "code",
   "execution_count": 3,
   "metadata": {
    "colab": {
     "base_uri": "https://localhost:8080/"
    },
    "id": "GsZ7aO6iXpC-",
    "outputId": "463b3127-6b67-44b2-a732-4f2e681d61c9"
   },
   "outputs": [
    {
     "name": "stdout",
     "output_type": "stream",
     "text": [
      "[]\n",
      "play:  10  round: chose  0\n",
      "[0]\n",
      "play:  10  round: chose  0\n",
      "[0]\n",
      "play:  10  round: chose  1\n",
      "[0]\n",
      "play:  10  round: chose  1\n",
      "[0]\n",
      "play:  10  round: chose  0\n",
      "[0]\n",
      "play:  10  round: chose  1\n",
      "[0]\n",
      "play:  10  round: chose  1\n",
      "[0]\n",
      "play:  10  round: chose  0\n",
      "[0]\n",
      "play:  10  round: chose  0\n",
      "[0]\n",
      "play:  10  round: chose  0\n"
     ]
    }
   ],
   "source": [
    "mm = BaseAgentModel()\n",
    "for i in range(10):\n",
    "  print(mm.opponent_before_chose)\n",
    "  mm.play(10)\n",
    "  mm.memo(0)"
   ]
  },
  {
   "cell_type": "markdown",
   "metadata": {
    "id": "uIExM6wnYk1H"
   },
   "source": [
    "継承して、Cだけを選び続けるclassを作ろう、と思ったが、そもそもどういうゲームなの？という定義を忘れていたので、ゲームを定義しよう。\n",
    "\n",
    "下のclassは、マトリックス情報と、プレイヤー（エージェント）の選択（上か下かがAプレイヤー、右か左かがBプレイヤー。）からスコアを2つ返す関数を持つ。"
   ]
  },
  {
   "cell_type": "code",
   "execution_count": 4,
   "metadata": {
    "id": "zRht0qHYX92p"
   },
   "outputs": [],
   "source": [
    "class MatrixState:\n",
    "\n",
    "  #マトリックスのリスト\n",
    "  matrix = [0,0,0,0,\n",
    "            0,0,0,0]\n",
    "\n",
    "  #マトリックスを初期化する\n",
    "  def __init__(self):\n",
    "    self.matrix = [0,0,0,0,\n",
    "              0,0,0,0]\n",
    "\n",
    "  #マトリックスをある値に初期化する\n",
    "  def __init__(self,a,b,c,d,e,f,g,h):\n",
    "    self.matrix = [a,b,c,d,\n",
    "              e,f,g,h]\n",
    "\n",
    "  def printMatrix(self):\n",
    "    print(self.matrix)\n",
    "\n",
    "  def MatrixList(self):\n",
    "    return [self.matrix[0],self.matrix[1],self.matrix[2],self.matrix[3],self.matrix[4],self.matrix[5],self.matrix[6],self.matrix[7]]\n",
    "\n",
    "  #値を読みだす\n",
    "  #choseは0と1。0が上・左、1が下・右\n",
    "  def getScore(self,chose_player_A,chose_player_B):\n",
    "    result_index = chose_player_A * 2 + chose_player_B\n",
    "    \n",
    "    #indexが3を超えたらエラー\n",
    "    if result_index > 3:\n",
    "      print(\"error: over 3 in index...\")\n",
    "      return 0\n",
    "\n",
    "    A_score = self.matrix[result_index*2]\n",
    "    B_score = self.matrix[result_index*2+1]\n",
    "    #print(\"A score:\",A_score)\n",
    "    #print(\"B score:\",B_score)\n",
    "\n",
    "    return A_score,B_score"
   ]
  },
  {
   "cell_type": "code",
   "execution_count": 5,
   "metadata": {
    "colab": {
     "base_uri": "https://localhost:8080/"
    },
    "id": "jBYqYmBwZamY",
    "outputId": "2fa2d30d-1586-4085-c0cf-cbb221576053"
   },
   "outputs": [
    {
     "name": "stdout",
     "output_type": "stream",
     "text": [
      "[1, 2, 4, 5, 2, 0, 2, 0]\n",
      "error: over 3 in index...\n"
     ]
    },
    {
     "data": {
      "text/plain": [
       "0"
      ]
     },
     "execution_count": 5,
     "metadata": {},
     "output_type": "execute_result"
    }
   ],
   "source": [
    "mmm = MatrixState(1,2,4,5,2,0,2,0)\n",
    "mmm.printMatrix()\n",
    "mmm.getScore(1,2)"
   ]
  },
  {
   "cell_type": "markdown",
   "metadata": {
    "id": "NaqNW8h7cREm"
   },
   "source": [
    "さっそくエージェントを定義しよう。すべてAを選ぶ（AllaまたはAllc戦略だね）エージェントを考えよう。もちろん、ベースのclassを継承する。"
   ]
  },
  {
   "cell_type": "code",
   "execution_count": 6,
   "metadata": {
    "id": "wlX01vsdZiUJ"
   },
   "outputs": [],
   "source": [
    "class AllAAgentModel(BaseAgentModel):\n",
    "\n",
    "  NAME = \"ALL_A\"\n",
    "\n",
    "  def play(self,round,matrix=[0,1,2,3,4,5,6,7]):\n",
    "\n",
    "    #必ず0（C）を選ぶ\n",
    "    chose = 0\n",
    "\n",
    "    #print(\"play: \",round,\" round: chose \",chose)\n",
    "\n",
    "    return chose"
   ]
  },
  {
   "cell_type": "markdown",
   "metadata": {
    "id": "sIF2X0EDfBDg"
   },
   "source": [
    "定義したclassを確認。問題なく継承されていそうだ。"
   ]
  },
  {
   "cell_type": "code",
   "execution_count": 7,
   "metadata": {
    "colab": {
     "base_uri": "https://localhost:8080/"
    },
    "id": "8UW4B--cesLM",
    "outputId": "85941725-fe2b-43c7-fd2e-2ba5ac1d7e28"
   },
   "outputs": [
    {
     "name": "stdout",
     "output_type": "stream",
     "text": [
      "[]\n",
      "[]\n"
     ]
    }
   ],
   "source": [
    "aa = AllAAgentModel()\n",
    "aa.play(10)\n",
    "print(aa.opponent_name_list)\n",
    "print(aa.score_list)"
   ]
  },
  {
   "cell_type": "markdown",
   "metadata": {
    "id": "dbZdX9rHfAre"
   },
   "source": [
    "では早速対戦させてみよう。まずは、すべてCを選ぶ戦略同士で。\n",
    "\n",
    "対戦させる関数を考えようか。"
   ]
  },
  {
   "cell_type": "code",
   "execution_count": 8,
   "metadata": {
    "id": "t0FJUZXZexjH"
   },
   "outputs": [],
   "source": [
    "#マトリックスをA用とB用に変換する\n",
    "def MatrixAtoB(matrix):\n",
    "  #print(Aatrix.MatrixList)\n",
    "  #matrix = Aatrix.MatrixList\n",
    "  return [matrix[1],matrix[0],matrix[5],matrix[4],matrix[3],matrix[2],matrix[7],matrix[6]]\n",
    "\n",
    "\n",
    "\n",
    "\n",
    "def Battle(matrix,round,player_A,player_B):\n",
    "\n",
    "  #まず、記憶を初期化\n",
    "  player_A.listInit()\n",
    "  player_B.listInit()\n",
    "\n",
    "  #print(matrix.matrix)\n",
    "\n",
    "  matrix_A = matrix.matrix\n",
    "  #B用に変換\n",
    "  matrix_B = MatrixAtoB(matrix.matrix)\n",
    "\n",
    "  A_score = 0\n",
    "  B_score = 0\n",
    "\n",
    "  #forループで回数をこなす\n",
    "  for i in range(round):\n",
    "    A_chose = player_A.play(i,matrix_A)\n",
    "    B_chose = player_B.play(i,matrix_B)\n",
    "\n",
    "    score = matrix.getScore(A_chose,B_chose)\n",
    "\n",
    "    A_score += score[0]\n",
    "    B_score += score[1]\n",
    "\n",
    "    player_A.memo(B_chose)\n",
    "    player_B.memo(A_chose)\n",
    "\n",
    "  A_score = A_score / round\n",
    "  B_score = B_score / round\n",
    "\n",
    "  #print(\"result : A = \",A_score,\": B = \",B_score)\n",
    "\n",
    "  return A_score,B_score"
   ]
  },
  {
   "cell_type": "markdown",
   "metadata": {
    "id": "iCZjF0skhSxB"
   },
   "source": [
    "問題はなさそうだ。ということは、playをちゃんと設定すれば、うまく動くということだね。"
   ]
  },
  {
   "cell_type": "code",
   "execution_count": 9,
   "metadata": {
    "colab": {
     "base_uri": "https://localhost:8080/"
    },
    "id": "m1rK666igyTI",
    "outputId": "2338c005-40f1-41e2-9e63-3edfec46c9f8"
   },
   "outputs": [
    {
     "data": {
      "text/plain": [
       "(1.0, 2.0)"
      ]
     },
     "execution_count": 9,
     "metadata": {},
     "output_type": "execute_result"
    }
   ],
   "source": [
    "Battle(MatrixState(1,2,3,4,5,6,7,8),100,AllAAgentModel(),AllAAgentModel())\n",
    "\n",
    "#s = \"self\"\n",
    "#o = \"other\"\n",
    "#print(MatrixAtoB([s+\"cc\",o+\"cc\",s+\"cd\",o+\"cd\",s+\"dc\",o+\"dc\",s+\"dd\",o+\"dd\"]))"
   ]
  },
  {
   "cell_type": "markdown",
   "metadata": {
    "id": "PIp4lnkKhnvM"
   },
   "source": [
    "じゃあ、教科書のマトリックスをPD_matとして、これからはこれを使うとしよう。\n",
    "あと、ラウンド数も100回にしよう。"
   ]
  },
  {
   "cell_type": "code",
   "execution_count": 10,
   "metadata": {
    "id": "cZLI4gZ8g4s0"
   },
   "outputs": [],
   "source": [
    "PD_mat = MatrixState(6,6,0,8,8,0,2,2)\n",
    "\n",
    "ROUND_N = 100"
   ]
  },
  {
   "cell_type": "markdown",
   "metadata": {
    "id": "-8_Bj4hYiK8s"
   },
   "source": [
    "すべて1（D）を選ぶエージェントの定義は、0（C）の場合をそのまま使えるね。"
   ]
  },
  {
   "cell_type": "code",
   "execution_count": 11,
   "metadata": {
    "id": "bZb4svkhh4RL"
   },
   "outputs": [],
   "source": [
    "class AllBAgentModel(BaseAgentModel):\n",
    "\n",
    "  NAME = \"ALL_B\"\n",
    "\n",
    "  def play(self,round,matrix=[0,1,2,3,4,5,6,7]):\n",
    "\n",
    "    #必ず1（D）を選ぶ\n",
    "    chose = 1\n",
    "\n",
    "    #print(\"play: \",round,\" round: chose \",chose)\n",
    "\n",
    "    return chose"
   ]
  },
  {
   "cell_type": "markdown",
   "metadata": {
    "id": "2TctBVsJigO5"
   },
   "source": [
    "次はランダムだけど、大本と同じだね。"
   ]
  },
  {
   "cell_type": "code",
   "execution_count": 12,
   "metadata": {
    "id": "PpTp4uT3igqb"
   },
   "outputs": [],
   "source": [
    "class RandomAgentModel(BaseAgentModel):\n",
    "\n",
    "  #自分の名前：\n",
    "  NAME = \"Random\"\n",
    "\n",
    "  def play(self,round,matrix=[0,1,2,3,4,5,6,7]):\n",
    "\n",
    "    #0～1を返す乱数、つまり0か1を返す\n",
    "    chose = randint(2)\n",
    "    #print(\"play: \",round,\" round: chose \",chose)\n",
    "\n",
    "    return chose"
   ]
  },
  {
   "cell_type": "markdown",
   "metadata": {
    "id": "nLeko_hBjGdW"
   },
   "source": [
    "とりあえず、この3戦略で試合をして、表を作る。"
   ]
  },
  {
   "cell_type": "code",
   "execution_count": 13,
   "metadata": {
    "colab": {
     "base_uri": "https://localhost:8080/"
    },
    "id": "_x0Z-FTGi-Vf",
    "outputId": "83548024-9808-46a7-9222-b685f6eac0c5"
   },
   "outputs": [
    {
     "name": "stdout",
     "output_type": "stream",
     "text": [
      "['ALL_A', 'ALL_B', 'Random']\n",
      "\n",
      "none      ALL_A     ALL_B     Random    \n",
      "ALL_A            6.0       0.0      2.94\n",
      "ALL_B            8.0       2.0      5.12\n",
      "Random          6.88      0.92      4.46\n"
     ]
    }
   ],
   "source": [
    "#リスト：3×3になるかな（厳密には、4×4だろうけど）\n",
    "result_list_01 = []\n",
    "\n",
    "#参加者の名前リスト\n",
    "join_name_list = []\n",
    "\n",
    "#参加者のインスタンスのリスト\n",
    "join_instance_list = []\n",
    "\n",
    "#戦略のエージェントを用意\n",
    "All_A_01 = AllAAgentModel()\n",
    "All_B_01 = AllBAgentModel()\n",
    "Random_01 = RandomAgentModel()\n",
    "\n",
    "join_name_list.append(All_A_01.NAME)\n",
    "join_name_list.append(All_B_01.NAME)\n",
    "join_name_list.append(Random_01.NAME)\n",
    "\n",
    "print(join_name_list)\n",
    "\n",
    "join_instance_list.append(All_A_01)\n",
    "join_instance_list.append(All_B_01)\n",
    "join_instance_list.append(Random_01)\n",
    "\n",
    "for i in range(len(join_instance_list)):\n",
    "  \n",
    "  #結果のリスト\n",
    "  result_list = [join_instance_list[i].NAME]\n",
    "\n",
    "  for j in range(len(join_instance_list)):\n",
    "    #対戦を入れる\n",
    "    result_list.append(Battle(PD_mat,ROUND_N,join_instance_list[i],join_instance_list[j])[0])\n",
    "\n",
    "  #総当たりが終わったら、結果のリストを4×4のリストに入れる\n",
    "  result_list_01.append(result_list)\n",
    "\n",
    "\n",
    "#最初に入れる\n",
    "join_name_list.insert(0,\"none\")\n",
    "result_list_01.insert(0,join_name_list)\n",
    "\n",
    "#print(result_list_01)\n",
    "\n",
    "print()\n",
    "for i in range(len(result_list_01)):\n",
    "    for j in range(len(result_list_01[i])):\n",
    "        print(\"{:10}\".format(result_list_01[i][j]), end=\"\")\n",
    "    print()  # 行ごとの改行のため"
   ]
  },
  {
   "cell_type": "markdown",
   "metadata": {
    "id": "lGZ_smc-nHky"
   },
   "source": [
    "ふむふむ。だいたい教科書と同じ値になりましたな。\n",
    "\n",
    "手順をまとめると、\n",
    "\n",
    "・結果表示リストの用意（あとで計算に使える）\n",
    "\n",
    "・参加する戦略の名前リスト（多分いらない。参照して後から追加すればよし）\n",
    "\n",
    "・参加する戦略の実際のインスタンスのリスト（重要。参照先をリスト管理すれば、forループだけど簡単にシミュレーションできる。）\n",
    "\n",
    "・インスタンスの宣言とリストに投入\n",
    "\n",
    "・実際に、リスト数だけ対戦していく。\n",
    "\n",
    "・結果を表に出力\n",
    "\n",
    "という感じだね。参加する戦略リストを引数にすれば、関数にできそう。"
   ]
  },
  {
   "cell_type": "code",
   "execution_count": 14,
   "metadata": {
    "id": "Mrr-x-LIkFfy"
   },
   "outputs": [],
   "source": [
    "#参加する戦略のclassのリストを受け取る。\n",
    "def BattleResultList(join_instance_list,matrix_list,round_n=ROUND_N):\n",
    "\n",
    "  #リスト：3×3になるかな（厳密には、4×4だろうけど）\n",
    "  battle_result_list = []\n",
    "\n",
    "  #参加者の名前リスト\n",
    "  join_name_list = []\n",
    "\n",
    "  #人数分、名前を追加\n",
    "  #最初に空白を入れる\n",
    "  join_name_list.append(\"none\")\n",
    "\n",
    "  for i in range(len(join_instance_list)):\n",
    "    join_name_list.append(join_instance_list[i].NAME)\n",
    "\n",
    "  #第1列目に投入\n",
    "  battle_result_list.append(join_name_list)\n",
    "\n",
    "  for i in range(len(join_instance_list)):\n",
    "    \n",
    "    #結果のリスト\n",
    "    result_list = [join_instance_list[i].NAME]\n",
    "\n",
    "    for j in range(len(join_instance_list)):\n",
    "      #対戦を入れる\n",
    "      result_list.append(Battle(matrix_list,round_n,join_instance_list[i],join_instance_list[j])[0])\n",
    "\n",
    "    #総当たりが終わったら、結果のリストを4×4のリストに入れる\n",
    "    battle_result_list.append(result_list)\n",
    "\n",
    "  #print(battle_result_list)\n",
    "\n",
    "  #print()\n",
    "  #for i in range(len(battle_result_list)):\n",
    "      #for j in range(len(battle_result_list[i])):\n",
    "          #print(\"{:10}\".format(battle_result_list[i][j]), end=\"\")\n",
    "      #print()  # 行ごとの改行のため\n",
    "\n",
    "  #正規化\n",
    "  \n",
    "\n",
    "  return battle_result_list"
   ]
  },
  {
   "cell_type": "markdown",
   "metadata": {
    "id": "5Csee2kvrRfn"
   },
   "source": [
    "関数化した。うまく動いていそうだ。"
   ]
  },
  {
   "cell_type": "code",
   "execution_count": 15,
   "metadata": {
    "id": "sm1SYAgEqD-F"
   },
   "outputs": [],
   "source": [
    "mya = BattleResultList(join_instance_list,PD_mat)"
   ]
  },
  {
   "cell_type": "markdown",
   "metadata": {
    "id": "pKga-gitrWWB"
   },
   "source": [
    "しっぺ返し戦略を定義しよう。記憶が必要になり、少しだけ複雑になるぞ。\n",
    "\n",
    "ここで、記憶できるよう、大本にmemo関数を追加した。ここからは、このmemo関数も利用するよ。"
   ]
  },
  {
   "cell_type": "code",
   "execution_count": 16,
   "metadata": {
    "id": "vxNTSf50qJMD"
   },
   "outputs": [],
   "source": [
    "class TFTAgentModel(BaseAgentModel):\n",
    "\n",
    "  #自分の名前：\n",
    "  NAME = \"TFT\"\n",
    "\n",
    "  def play(self,round,matrix=[0,1,2,3,4,5,6,7]):\n",
    "\n",
    "    #前の手がないなら、0を選ぶ\n",
    "    if len(self.opponent_before_chose) == 0:\n",
    "      chose = 0\n",
    "\n",
    "    else:\n",
    "      if self.opponent_before_chose[0] == 0:\n",
    "        chose = 0\n",
    "      else:\n",
    "        chose = 1\n",
    "\n",
    "    #print(\"play: \",round,\" round: chose \",chose)\n",
    "\n",
    "    return chose\n",
    "\n",
    "  def memo(self,opponent_chose,matrix=[0,1,2,3,4,5,6,7]):\n",
    "    self.opponent_before_chose = [opponent_chose]"
   ]
  },
  {
   "cell_type": "markdown",
   "metadata": {
    "id": "nq8sOzGuv4bx"
   },
   "source": [
    "大丈夫そうだ。じゃあ、戦略をすべてにしよう。"
   ]
  },
  {
   "cell_type": "code",
   "execution_count": 17,
   "metadata": {
    "id": "oFBY1Lcrtkoe"
   },
   "outputs": [],
   "source": [
    "#戦略のエージェントを用意\n",
    "All_A_02 = AllAAgentModel()\n",
    "All_B_02 = AllBAgentModel()\n",
    "Random_02 = RandomAgentModel()\n",
    "TFT_02 = TFTAgentModel()\n",
    "\n",
    "#参加者のインスタンスのリスト\n",
    "join_instance_list = [All_A_02,All_B_02,Random_02,TFT_02]\n",
    "\n",
    "mya_2 = BattleResultList(join_instance_list,PD_mat)"
   ]
  },
  {
   "cell_type": "markdown",
   "metadata": {
    "id": "2hoWLkT2v8Hz"
   },
   "source": [
    "半返し戦略（TFTT）。2回1を選ばれたら1を選ぶ（報復は半分）"
   ]
  },
  {
   "cell_type": "code",
   "execution_count": 18,
   "metadata": {
    "id": "ya2O3jy8uDbc"
   },
   "outputs": [],
   "source": [
    "class TFTTAgentModel(BaseAgentModel):\n",
    "\n",
    "  #自分の名前：\n",
    "  NAME = \"TFTT\"\n",
    "\n",
    "  def play(self,round,matrix=[0,1,2,3,4,5,6,7]):\n",
    "\n",
    "    #前の手がないなら、0を選ぶ\n",
    "    if len(self.opponent_before_chose) == 0:\n",
    "      chose = 0\n",
    "\n",
    "    else:\n",
    "      if len(self.opponent_before_chose) == 1:\n",
    "        chose = 0\n",
    "\n",
    "      else:\n",
    "        if self.opponent_before_chose[0] == 1 and self.opponent_before_chose[1] == 1:\n",
    "          chose = 1\n",
    "        else:\n",
    "          chose = 0\n",
    "\n",
    "    #print(\"play: \",round,\" round: chose \",chose)\n",
    "\n",
    "    return chose\n",
    "\n",
    "  def memo(self,opponent_chose,matrix=[0,1,2,3,4,5,6,7]):\n",
    "    if len(self.opponent_before_chose) == 0 or len(self.opponent_before_chose) == 1:\n",
    "      self.opponent_before_chose.append(opponent_chose)\n",
    "    else:\n",
    "      self.opponent_before_chose[0] = self.opponent_before_chose[1]\n",
    "      self.opponent_before_chose[1] = opponent_chose"
   ]
  },
  {
   "cell_type": "markdown",
   "metadata": {
    "id": "H-X-FnEuxQZc"
   },
   "source": [
    "倍返し戦略（TTFAT）。1を選ばれたら、2回1を選ぶ（倍の報復）。"
   ]
  },
  {
   "cell_type": "code",
   "execution_count": 19,
   "metadata": {
    "id": "pUS8HTeWxmIE"
   },
   "outputs": [],
   "source": [
    "class TTFATAgentModel(BaseAgentModel):\n",
    "\n",
    "  #自分の名前：\n",
    "  NAME = \"TTFAT\"\n",
    "\n",
    "  def play(self,round,matrix=[0,1,2,3,4,5,6,7]):\n",
    "\n",
    "    #前の手がないなら、0を選ぶ\n",
    "    if len(self.opponent_before_chose) == 0:\n",
    "      chose = 0\n",
    "\n",
    "    else:\n",
    "      if len(self.opponent_before_chose) == 1:\n",
    "        if self.opponent_before_chose[0] == 1:\n",
    "          chose = 1\n",
    "        else:\n",
    "          chose = 0\n",
    "\n",
    "      else:\n",
    "        if self.opponent_before_chose[0] == 1 or self.opponent_before_chose[1] == 1:\n",
    "          chose = 1\n",
    "        else:\n",
    "          chose = 0\n",
    "\n",
    "    #print(\"play: \",round,\" round: chose \",chose)\n",
    "\n",
    "    return chose\n",
    "\n",
    "  def memo(self,opponent_chose,matrix=[0,1,2,3,4,5,6,7]):\n",
    "    if len(self.opponent_before_chose) == 0 or len(self.opponent_before_chose) == 1:\n",
    "      self.opponent_before_chose.append(opponent_chose)\n",
    "    else:\n",
    "      self.opponent_before_chose[0] = self.opponent_before_chose[1]\n",
    "      self.opponent_before_chose[1] = opponent_chose"
   ]
  },
  {
   "cell_type": "markdown",
   "metadata": {
    "id": "qd_TTJPgydht"
   },
   "source": [
    "トリガー戦略（Trigger）。1回でも1を選ばれると、それ以降、ずっと1を選ぶ。"
   ]
  },
  {
   "cell_type": "code",
   "execution_count": 20,
   "metadata": {
    "id": "y1NrWmxIymoY"
   },
   "outputs": [],
   "source": [
    "class TriggerAgentModel(BaseAgentModel):\n",
    "\n",
    "  #自分の名前：\n",
    "  NAME = \"Trigger\"\n",
    "\n",
    "  def play(self,round,matrix=[0,1,2,3,4,5,6,7]):\n",
    "\n",
    "    #前の手がないなら、0を選ぶ\n",
    "    if len(self.opponent_before_chose) == 0:\n",
    "      chose = 0\n",
    "\n",
    "    else:\n",
    "      if self.opponent_before_chose[0] == 1:\n",
    "        chose = 1\n",
    "      else:\n",
    "        chose = 0\n",
    "\n",
    "    #print(\"play: \",round,\" round: chose \",chose)\n",
    "\n",
    "    return chose\n",
    "\n",
    "  def memo(self,opponent_chose,matrix=[0,1,2,3,4,5,6,7]):\n",
    "    if len(self.opponent_before_chose) == 0:\n",
    "      self.opponent_before_chose.append(opponent_chose)\n",
    "    else:\n",
    "      if opponent_chose == 1:\n",
    "        self.opponent_before_chose[0] = opponent_chose"
   ]
  },
  {
   "cell_type": "code",
   "execution_count": 21,
   "metadata": {
    "id": "3R0tXvhlw-r0"
   },
   "outputs": [],
   "source": [
    "TFTT_03 = TFTTAgentModel()\n",
    "TTFAT_03 = TTFATAgentModel()\n",
    "Trigger_03 = TriggerAgentModel()\n",
    "\n",
    "#参加者のインスタンスのリスト\n",
    "join_instance_list = [All_A_02,All_B_02,Random_02,TFT_02,TFTT_03,TTFAT_03,Trigger_03]\n",
    "\n",
    "mya_3 = BattleResultList(join_instance_list,PD_mat)"
   ]
  },
  {
   "cell_type": "markdown",
   "metadata": {
    "id": "7s88oNBwzZwG"
   },
   "source": [
    "とりあえず、トリガー戦略までできたので、次は人口シミュにいこう。\n",
    "\n",
    "今度、保存すべきなのは、\n",
    "\n",
    "・それぞれの人口（そして推移）\n",
    "\n",
    "・総人口（計算に必要）\n",
    "\n",
    "それぞれの人口は、戦略との点数×その戦略の人口　を戦略ごとで計算し合計。これが点数になる。戦略ですべて計算したら、合計して、総人口で割ることで1人の平均点が出る。\n",
    "\n",
    "その後、人口を変化させる。元の人口×点数÷平均点。平均点とどれくらい差があるかで、増えるか減るかが決まる、ということだ。\n",
    "\n",
    "早速やっていこう。"
   ]
  },
  {
   "cell_type": "code",
   "execution_count": 58,
   "metadata": {
    "id": "qmwj_iEjxJiH"
   },
   "outputs": [],
   "source": [
    "def EvoSimu(generation_N,battle_result_list,population_N):\n",
    "  #初期の人口リスト\n",
    "  population_list = [[population_N] * (len(battle_result_list) - 1)]\n",
    "  #print(population_list)\n",
    "\n",
    "  #点数のリスト\n",
    "  score_list = [[]]\n",
    "\n",
    "  for k in  range(generation_N):\n",
    "    ave_score = 0\n",
    "    population = sum(population_list[k])\n",
    "    #print(population)\n",
    "\n",
    "    for i in range(1,len(battle_result_list)):\n",
    "      sum_score = 0\n",
    "\n",
    "      for j in range(1,len(battle_result_list[i])):\n",
    "        sum_score += population_list[k][j-1] * battle_result_list[i][j]\n",
    "\n",
    "      score_list[k].append(sum_score)\n",
    "      ave_score += sum_score * population_list[k][i-1]\n",
    "\n",
    "    #print(ave_score)\n",
    "    ave_score = ave_score / population\n",
    "    #print(ave_score)\n",
    "\n",
    "    population_list.append([])\n",
    "\n",
    "    for i in range(1,len(battle_result_list)):\n",
    "      result_population = population_list[k][i-1] * score_list[k][i-1] / ave_score\n",
    "\n",
    "      population_list[k+1].append(result_population)\n",
    "\n",
    "    if k < generation_N:\n",
    "      score_list.append([])\n",
    "\n",
    "  #print(population_list)\n",
    "  #print(score_list)\n",
    "\n",
    "  return population_list\n",
    "\n",
    "evo_result_list = EvoSimu(100,mya_3,100)"
   ]
  },
  {
   "cell_type": "markdown",
   "metadata": {
    "id": "At4zKPVoDGbm"
   },
   "source": [
    "できたので、プロットしてみよう"
   ]
  },
  {
   "cell_type": "code",
   "execution_count": 59,
   "metadata": {
    "colab": {
     "base_uri": "https://localhost:8080/",
     "height": 404
    },
    "id": "8EzMIzXT2EI2",
    "outputId": "1da5c386-8e56-4833-d620-cab0e0a44d5d"
   },
   "outputs": [
    {
     "data": {
      "image/png": "[encoded data removed]",
      "text/plain": [
       "<Figure size 576x432 with 1 Axes>"
      ]
     },
     "metadata": {
      "needs_background": "light"
     },
     "output_type": "display_data"
    }
   ],
   "source": [
    "def plotSimuResult(evo_result_list,battle_result_list):\n",
    "  y = np.array(evo_result_list).T\n",
    "\n",
    "  figure(figsize = (8, 6))\n",
    "  x = np.array(range(0, 101))\n",
    "\n",
    "  plt.title(\"Plotting a2-D array\")\n",
    "  plt.xlabel(\"Generation\")\n",
    "  plt.ylabel(\"Population\")\n",
    "\n",
    "  for i, array in enumerate(y):\n",
    "    plt.plot(x, array, label = battle_result_list[i+1][0])\n",
    "    \n",
    "  plt.legend(loc = \"center left\", bbox_to_anchor=(1, 0.5))\n",
    "  plt.show()\n",
    "\n",
    "plotSimuResult(evo_result_list,mya_3)"
   ]
  },
  {
   "cell_type": "markdown",
   "metadata": {
    "id": "fxW2neDJDyVy"
   },
   "source": [
    "うまくいったようだ。変えられるよう、関数にしてしまうおう。"
   ]
  },
  {
   "cell_type": "code",
   "execution_count": 24,
   "metadata": {
    "colab": {
     "base_uri": "https://localhost:8080/",
     "height": 404
    },
    "id": "giA2_GC1Cr3H",
    "outputId": "dcb184a0-3c48-49e4-a0cf-a146908c3ef8"
   },
   "outputs": [
    {
     "data": {
      "image/png": "[encoded data removed]",
      "text/plain": [
       "<Figure size 576x432 with 1 Axes>"
      ]
     },
     "metadata": {
      "needs_background": "light"
     },
     "output_type": "display_data"
    }
   ],
   "source": [
    "KK_mat = MatrixState(10,10,0,24,24,0,2,2)\n",
    "\n",
    "ROUND_N = 100\n",
    "\n",
    "#戦略のエージェントを用意\n",
    "All_A_02 = AllAAgentModel()\n",
    "All_B_02 = AllBAgentModel()\n",
    "Random_02 = RandomAgentModel()\n",
    "TFT_02 = TFTAgentModel()\n",
    "TFTT_03 = TFTTAgentModel()\n",
    "TTFAT_03 = TTFATAgentModel()\n",
    "Trigger_03 = TriggerAgentModel()\n",
    "\n",
    "#参加者のインスタンスのリスト\n",
    "join_instance_list = [All_A_02,All_B_02,Random_02,TFT_02,TFTT_03,TTFAT_03,Trigger_03]\n",
    "\n",
    "mya_3 = BattleResultList(join_instance_list,KK_mat)\n",
    "\n",
    "evo_result_list = EvoSimu(100,mya_3,100)\n",
    "\n",
    "plotSimuResult(evo_result_list,mya_3)"
   ]
  },
  {
   "cell_type": "markdown",
   "metadata": {
    "id": "EL3O9RtPS9jV"
   },
   "source": [
    "SVOに基づくエージェントを作ろう。\n",
    "\n"
   ]
  },
  {
   "cell_type": "code",
   "execution_count": 25,
   "metadata": {
    "id": "ZQ-tkYf8Eb4A"
   },
   "outputs": [],
   "source": [
    "class SVOAgentModel(BaseAgentModel):\n",
    "\n",
    "  #自分の名前：\n",
    "  NAME = \"SVO\"\n",
    "\n",
    "  angle = 0\n",
    "\n",
    "  other_w = math.sin(math.radians(angle))\n",
    "  self_w = math.cos(math.radians(angle))\n",
    "\n",
    "  def __init__(self,NAME,angle):\n",
    "    self.NAME = NAME\n",
    "    self.angle = angle\n",
    "    self.other_w = math.sin(math.radians(angle))\n",
    "    self.self_w = math.cos(math.radians(angle))\n",
    "\n",
    "    #print(self.self_w,self.other_w)\n",
    "\n",
    "  def play(self,round,matrix=[0,1,2,3,4,5,6,7]):\n",
    "\n",
    "    #重きによる計算\n",
    "    row_A = matrix[0] * self.self_w + matrix[1] * self.other_w + matrix[2] * self.self_w + matrix[3] * self.other_w\n",
    "    row_B = matrix[4] * self.self_w + matrix[5] * self.other_w + matrix[6] * self.self_w + matrix[7] * self.other_w\n",
    "\n",
    "    row = row_A - row_B\n",
    "    #print(row)\n",
    "\n",
    "    #Aの方が価値が高いなら0を選ぶ\n",
    "    if row >= 0:\n",
    "      chose = 0\n",
    "\n",
    "    else:\n",
    "      chose = 1\n",
    "\n",
    "    return chose"
   ]
  },
  {
   "cell_type": "markdown",
   "metadata": {
    "id": "ae-LlojSVWL0"
   },
   "source": [
    "テスト。まあ動いている様子。丸め誤差は気になるが"
   ]
  },
  {
   "cell_type": "code",
   "execution_count": 26,
   "metadata": {
    "colab": {
     "base_uri": "https://localhost:8080/"
    },
    "id": "k0HlhD42Udgq",
    "outputId": "14ef8a0d-02b7-4369-c88b-21eba99afecb"
   },
   "outputs": [
    {
     "data": {
      "text/plain": [
       "1"
      ]
     },
     "execution_count": 26,
     "metadata": {},
     "output_type": "execute_result"
    }
   ],
   "source": [
    "a_a = SVOAgentModel(\"90\",-45)\n",
    "a_a.play(20,[2,2,0,3,3,0,1,1])"
   ]
  },
  {
   "cell_type": "code",
   "execution_count": 27,
   "metadata": {
    "colab": {
     "base_uri": "https://localhost:8080/",
     "height": 404
    },
    "id": "9TMU-23fU3Ud",
    "outputId": "6c401936-993b-48ec-e214-1176cbe1c8c7"
   },
   "outputs": [
    {
     "data": {
      "image/png": "[encoded data removed]",
      "text/plain": [
       "<Figure size 576x432 with 1 Axes>"
      ]
     },
     "metadata": {
      "needs_background": "light"
     },
     "output_type": "display_data"
    }
   ],
   "source": [
    "KK_mat = MatrixState(60,60,10,100,100,10,30,30)\n",
    "\n",
    "ROUND_N = 100\n",
    "\n",
    "#戦略のエージェントを用意\n",
    "Alt = SVOAgentModel(\"Alt\",90)\n",
    "Coo = SVOAgentModel(\"Coo\",45)\n",
    "Ind = SVOAgentModel(\"Ind\",0)\n",
    "Com = SVOAgentModel(\"Com\",315)\n",
    "Agg = SVOAgentModel(\"Agg\",270)\n",
    "Sam = SVOAgentModel(\"Sam\",225)\n",
    "Mas = SVOAgentModel(\"Mas\",180)\n",
    "Mar = SVOAgentModel(\"Mar\",135)\n",
    "\n",
    "#参加者のインスタンスのリスト\n",
    "join_instance_list = [Alt,Coo,Ind,Com,Agg,Sam,Mas,Mar]\n",
    "\n",
    "mya_3 = BattleResultList(join_instance_list,KK_mat)\n",
    "\n",
    "evo_result_list = EvoSimu(100,mya_3,100)\n",
    "\n",
    "plotSimuResult(evo_result_list,mya_3)"
   ]
  },
  {
   "cell_type": "markdown",
   "metadata": {
    "id": "tq0qAuk7OHtJ"
   },
   "source": [
    "さて。ここまでやってきて、Joireman1996の再現だが、もう一度読んだ結果、以下のような手順だったらしい。\n",
    "\n",
    "・60000回を各ペアで行う。\n",
    "\n",
    "・60000回のゲームは、8つのペイオフ値がすべて乱数で決めており、0から1の一様分布で生成している。\n",
    "\n",
    "・エージェントが得た結果は、60000回の平均値である（だから0～1の範囲）\n",
    "\n",
    "なるほど。まず、ゲームを変え、ペアを変え、というわけだあ（今のところ、ペアを変えてゲーム固定なので、足してから割るのが良いか）。\n",
    "\n"
   ]
  },
  {
   "cell_type": "code",
   "execution_count": 28,
   "metadata": {
    "colab": {
     "base_uri": "https://localhost:8080/"
    },
    "id": "n3Ylm-EmWg8S",
    "outputId": "faff3639-6581-4fcb-fa49-e0f56dd75642"
   },
   "outputs": [
    {
     "name": "stdout",
     "output_type": "stream",
     "text": [
      "\n",
      "none      Alt       Coo       Ind       Com       Agg       Sam       Mas       Mar       \n",
      "Alt            0.639     0.586     0.495     0.393     0.367     0.420     0.511     0.613\n",
      "Coo            0.711     0.678     0.564     0.478     0.446     0.479     0.593     0.679\n",
      "Ind            0.725     0.697     0.595     0.519     0.491     0.519     0.621     0.697\n",
      "Com            0.727     0.690     0.592     0.503     0.457     0.494     0.593     0.682\n",
      "Agg            0.610     0.596     0.490     0.415     0.376     0.390     0.496     0.571\n",
      "Sam            0.538     0.503     0.421     0.330     0.298     0.332     0.414     0.506\n",
      "Mas            0.524     0.484     0.390     0.289     0.252     0.292     0.386     0.487\n",
      "Mar            0.522     0.491     0.393     0.306     0.286     0.317     0.415     0.502\n"
     ]
    }
   ],
   "source": [
    "def JoiSimu(game_N=100):\n",
    "  KK_mat = MatrixState(0,0,0,0,0,0,0,0)\n",
    "\n",
    "  ROUND_N = 1\n",
    "\n",
    "  #戦略のエージェントを用意\n",
    "  Alt = SVOAgentModel(\"Alt\",90)\n",
    "  Coo = SVOAgentModel(\"Coo\",45)\n",
    "  Ind = SVOAgentModel(\"Ind\",0)\n",
    "  Com = SVOAgentModel(\"Com\",315)\n",
    "  Agg = SVOAgentModel(\"Agg\",270)\n",
    "  Sam = SVOAgentModel(\"Sam\",225)\n",
    "  Mas = SVOAgentModel(\"Mas\",180)\n",
    "  Mar = SVOAgentModel(\"Mar\",135)\n",
    "\n",
    "  #参加者のインスタンスのリスト\n",
    "  join_instance_list = [Alt,Coo,Ind,Com,Agg,Sam,Mas,Mar]\n",
    "\n",
    "  mya_3 = BattleResultList(join_instance_list,KK_mat)\n",
    "\n",
    "  #mal_mat = (MatrixState(np.random.rand(),np.random.rand(),np.random.rand(),np.random.rand(),np.random.rand(),np.random.rand(),np.random.rand(),np.random.rand()),game_N)\n",
    "  #print(mal_mat)\n",
    "\n",
    "  for i in range(game_N):\n",
    "    #0以上～1未満を返す一様分布\n",
    "    #print(np.random.rand())\n",
    "    KK_mat = (MatrixState(np.random.rand(),np.random.rand(),np.random.rand(),np.random.rand(),np.random.rand(),np.random.rand(),np.random.rand(),np.random.rand()))\n",
    "    #mya_4 = BattleResultList(join_instance_list,KK_mat)\n",
    "    mya_4 = BattleResultList(join_instance_list,KK_mat)\n",
    "\n",
    "    for k in range(1,len(mya_3)):\n",
    "      for j in range(1,len(mya_3[k])):\n",
    "        mya_3[k][j] += mya_4[k][j]\n",
    "\n",
    "  #KK_mat = MatrixState(np.random.rand(),np.random.rand(),np.random.rand(),np.random.rand(),np.random.rand(),np.random.rand(),np.random.rand(),np.random.rand())\n",
    "\n",
    "  #mya_4 = BattleResultList(join_instance_list,KK_mat)\n",
    "\n",
    "  for i in range(1,len(mya_3)):\n",
    "    for j in range(1,len(mya_3[i])):\n",
    "        mya_3[i][j] = mya_3[i][j] / game_N\n",
    "\n",
    "  print()\n",
    "  for i in range(len(mya_3)):\n",
    "      for j in range(len(mya_3[i])):\n",
    "        if i == 0  or j == 0:\n",
    "          print(\"{:10}\".format(mya_3[i][j]), end=\"\")\n",
    "        else:\n",
    "          print(\"{:10.3f}\".format(mya_3[i][j]), end=\"\")\n",
    "      print()  # 行ごとの改行のため\n",
    "\n",
    "\n",
    "#一様乱数を1,000件生成\n",
    "#x = np.random.rand(1000)\n",
    " \n",
    "# ヒストグラムを出力\n",
    "#plt.hist(x)\n",
    "\n",
    "JoiSimu(100)"
   ]
  },
  {
   "cell_type": "code",
   "execution_count": 29,
   "metadata": {
    "colab": {
     "base_uri": "https://localhost:8080/"
    },
    "id": "LyyHzn5BQ2zX",
    "outputId": "216b459e-398d-42d0-e5e0-0b93cf631d24"
   },
   "outputs": [
    {
     "data": {
      "text/plain": [
       "[['none', 'Alt', 'Coo', 'Ind', 'Com', 'Agg', 'Sam', 'Mas', 'Mar'],\n",
       " ['Alt',\n",
       "  0.7494873510210079,\n",
       "  0.925809186760602,\n",
       "  0.4395038002527649,\n",
       "  0.7920219780223146,\n",
       "  0.5541034995054158,\n",
       "  0.7678822956015333,\n",
       "  0.7968691935881737,\n",
       "  0.2359967078473708],\n",
       " ['Coo',\n",
       "  0.5819814660455513,\n",
       "  0.6062820699662029,\n",
       "  0.7779405315410394,\n",
       "  0.08928719874252944,\n",
       "  0.37647344315334574,\n",
       "  0.04656943421303139,\n",
       "  0.8528024157524476,\n",
       "  0.9948442682245441],\n",
       " ['Ind',\n",
       "  0.595673351439991,\n",
       "  0.9371345275215306,\n",
       "  0.7020975325854822,\n",
       "  0.47323008576954795,\n",
       "  0.9224628545455621,\n",
       "  0.3457771811578625,\n",
       "  0.3045008119154641,\n",
       "  0.6345180604920676],\n",
       " ['Com',\n",
       "  0.5176728253795999,\n",
       "  0.6107017007422433,\n",
       "  0.3419369152177286,\n",
       "  0.9547345702373301,\n",
       "  0.279029035262914,\n",
       "  0.9500209049212696,\n",
       "  0.012597105163679512,\n",
       "  0.4228287787280903],\n",
       " ['Agg',\n",
       "  0.3533405314556296,\n",
       "  0.0045758713824090025,\n",
       "  0.8296912862354561,\n",
       "  0.6084364703621339,\n",
       "  0.9942777470616214,\n",
       "  0.14918314206814764,\n",
       "  0.0770600484240338,\n",
       "  0.6996167244375328],\n",
       " ['Sam',\n",
       "  0.5495104732541242,\n",
       "  0.600935892123952,\n",
       "  0.62781430209488,\n",
       "  0.11802165645909635,\n",
       "  0.15556382134284752,\n",
       "  0.28376442408144675,\n",
       "  0.9735169475176062,\n",
       "  0.3042424113145147],\n",
       " ['Mas',\n",
       "  0.8611371615593558,\n",
       "  0.4198928445426513,\n",
       "  0.6963709412864523,\n",
       "  0.19425293958470113,\n",
       "  0.2187568177157504,\n",
       "  0.3789072179489955,\n",
       "  0.7340319323571138,\n",
       "  0.9643854164312946],\n",
       " ['Mar',\n",
       "  0.09271746422644522,\n",
       "  0.3541270698938602,\n",
       "  0.9944571857254771,\n",
       "  0.4810208363760786,\n",
       "  0.005985872600078435,\n",
       "  0.5491207444191434,\n",
       "  0.9307006157103845,\n",
       "  0.4933765550358762]]"
      ]
     },
     "execution_count": 29,
     "metadata": {},
     "output_type": "execute_result"
    }
   ],
   "source": [
    "#参加する戦略のclassのリストを受け取る。\n",
    "def JoiBattleResultList(join_instance_list,round_n=1):\n",
    "\n",
    "  #リスト：3×3になるかな（厳密には、4×4だろうけど）\n",
    "  battle_result_list = []\n",
    "\n",
    "  #参加者の名前リスト\n",
    "  join_name_list = []\n",
    "\n",
    "  #人数分、名前を追加\n",
    "  #最初に空白を入れる\n",
    "  join_name_list.append(\"none\")\n",
    "\n",
    "  for i in range(len(join_instance_list)):\n",
    "    join_name_list.append(join_instance_list[i].NAME)\n",
    "\n",
    "  #第1列目に投入\n",
    "  battle_result_list.append(join_name_list)\n",
    "\n",
    "  for i in range(len(join_instance_list)):\n",
    "    \n",
    "    #結果のリスト\n",
    "    result_list = [join_instance_list[i].NAME]\n",
    "\n",
    "    for j in range(len(join_instance_list)):\n",
    "      matrix_list = (MatrixState(np.random.rand(),np.random.rand(),np.random.rand(),np.random.rand(),np.random.rand(),np.random.rand(),np.random.rand(),np.random.rand()))\n",
    "      #対戦を入れる\n",
    "      result_list.append(Battle(matrix_list,round_n,join_instance_list[i],join_instance_list[j])[0])\n",
    "\n",
    "    #総当たりが終わったら、結果のリストを4×4のリストに入れる\n",
    "    battle_result_list.append(result_list)\n",
    "\n",
    "  #print(battle_result_list)\n",
    "\n",
    "  #print()\n",
    "  #for i in range(len(battle_result_list)):\n",
    "      #for j in range(len(battle_result_list[i])):\n",
    "          #print(\"{:10}\".format(battle_result_list[i][j]), end=\"\")\n",
    "      #print()  # 行ごとの改行のため\n",
    "\n",
    "  #正規化\n",
    "  \n",
    "\n",
    "  return battle_result_list\n",
    "\n",
    "JoiBattleResultList(join_instance_list)"
   ]
  },
  {
   "cell_type": "code",
   "execution_count": 71,
   "metadata": {
    "colab": {
     "base_uri": "https://localhost:8080/"
    },
    "id": "Q27EVhbmYjNc",
    "outputId": "30920d23-ffc3-4b74-ef60-98f78d7f65e4"
   },
   "outputs": [
    {
     "name": "stdout",
     "output_type": "stream",
     "text": [
      "\n",
      "none      Alt       Coo       Ind       Com       Agg       Sam       Mas       Mar       \n",
      "Alt            0.610     0.584     0.506     0.420     0.393     0.419     0.497     0.582\n",
      "Coo            0.694     0.663     0.586     0.497     0.465     0.496     0.573     0.662\n",
      "Ind            0.737     0.699     0.623     0.528     0.485     0.523     0.599     0.695\n",
      "Com            0.702     0.657     0.580     0.488     0.446     0.491     0.568     0.660\n",
      "Agg            0.609     0.570     0.502     0.407     0.368     0.407     0.476     0.570\n",
      "Sam            0.525     0.490     0.421     0.330     0.296     0.331     0.400     0.490\n",
      "Mas            0.481     0.455     0.384     0.300     0.276     0.303     0.373     0.458\n",
      "Mar            0.517     0.497     0.427     0.339     0.315     0.335     0.405     0.493\n"
     ]
    }
   ],
   "source": [
    "def JoiSimu_JoiBattle(game_N=100):\n",
    "  KK_mat = MatrixState(0,0,0,0,0,0,0,0)\n",
    "\n",
    "  ROUND_N = 1\n",
    "\n",
    "  #戦略のエージェントを用意\n",
    "  Alt = SVOAgentModel(\"Alt\",90)\n",
    "  Coo = SVOAgentModel(\"Coo\",45)\n",
    "  Ind = SVOAgentModel(\"Ind\",0)\n",
    "  Com = SVOAgentModel(\"Com\",315)\n",
    "  Agg = SVOAgentModel(\"Agg\",270)\n",
    "  Sam = SVOAgentModel(\"Sam\",225)\n",
    "  Mas = SVOAgentModel(\"Mas\",180)\n",
    "  Mar = SVOAgentModel(\"Mar\",135)\n",
    "\n",
    "  #参加者のインスタンスのリスト\n",
    "  join_instance_list = [Alt,Coo,Ind,Com,Agg,Sam,Mas,Mar]\n",
    "\n",
    "  mya_3 = BattleResultList(join_instance_list,KK_mat)\n",
    "\n",
    "  #mal_mat = (MatrixState(np.random.rand(),np.random.rand(),np.random.rand(),np.random.rand(),np.random.rand(),np.random.rand(),np.random.rand(),np.random.rand()),game_N)\n",
    "  #print(mal_mat)\n",
    "\n",
    "  for i in range(game_N):\n",
    "    #0以上～1未満を返す一様分布\n",
    "    #print(np.random.rand())\n",
    "    #KK_mat = (MatrixState(np.random.rand(),np.random.rand(),np.random.rand(),np.random.rand(),np.random.rand(),np.random.rand(),np.random.rand(),np.random.rand()))\n",
    "    #mya_4 = BattleResultList(join_instance_list,KK_mat)\n",
    "    mya_4 = JoiBattleResultList(join_instance_list)\n",
    "\n",
    "    for k in range(1,len(mya_3)):\n",
    "      for j in range(1,len(mya_3[k])):\n",
    "        mya_3[k][j] += mya_4[k][j]\n",
    "\n",
    "  #KK_mat = MatrixState(np.random.rand(),np.random.rand(),np.random.rand(),np.random.rand(),np.random.rand(),np.random.rand(),np.random.rand(),np.random.rand())\n",
    "\n",
    "  #mya_4 = BattleResultList(join_instance_list,KK_mat)\n",
    "\n",
    "  for i in range(1,len(mya_3)):\n",
    "    for j in range(1,len(mya_3[i])):\n",
    "        mya_3[i][j] = mya_3[i][j] / game_N\n",
    "\n",
    "  print()\n",
    "  for i in range(len(mya_3)):\n",
    "      for j in range(len(mya_3[i])):\n",
    "        if i == 0  or j == 0:\n",
    "          print(\"{:10}\".format(mya_3[i][j]), end=\"\")\n",
    "        else:\n",
    "          print(\"{:10.3f}\".format(mya_3[i][j]), end=\"\")\n",
    "      print()  # 行ごとの改行のため\n",
    "\n",
    "\n",
    "#一様乱数を1,000件生成\n",
    "#x = np.random.rand(1000)\n",
    " \n",
    "# ヒストグラムを出力\n",
    "#plt.hist(x)\n",
    "\n",
    "JoiSimu(1000)"
   ]
  },
  {
   "cell_type": "markdown",
   "metadata": {
    "id": "uHtVTYYRhpeL"
   },
   "source": [
    "ふむ。結果としては、前半は60000ゲームを8戦略ペアで、後半は8戦略ペアで60000ゲームずつ（後半の方が生成ゲームは多い）。\n",
    "\n",
    "計算時間は、10000ゲームで3分ほど（180秒）。長いっすね。60000を試そうとしたが、ちょっとあきらめ（18分は待てない、気分的に）。\n",
    "\n",
    "となると計算時間を減らす工夫が必要なわけだが。。。"
   ]
  },
  {
   "cell_type": "code",
   "execution_count": null,
   "metadata": {
    "id": "HX4Q5i34Rx0A"
   },
   "outputs": [],
   "source": []
  },
  {
   "cell_type": "markdown",
   "metadata": {
    "id": "6OnSpe1a5WDA"
   },
   "source": [
    "計算量を減らした場合の関数を考えた。"
   ]
  },
  {
   "cell_type": "code",
   "execution_count": 31,
   "metadata": {
    "colab": {
     "base_uri": "https://localhost:8080/"
    },
    "id": "9Kf06LB3gHBu",
    "outputId": "bf46151d-e694-4126-8ea9-c6a63012d1e9"
   },
   "outputs": [
    {
     "name": "stdout",
     "output_type": "stream",
     "text": [
      "231.1680000002525\n"
     ]
    }
   ],
   "source": [
    "# 開始\n",
    "start_time = time.perf_counter()\n",
    "#Alt_ = SVOAgentModel(\"Alt\",90)\n",
    "#Alt_.play(1)\n",
    "# 終了\n",
    "end_time = time.perf_counter()\n",
    "\n",
    "# 経過時間を出力(秒)\n",
    "elapsed_time = end_time - start_time\n",
    "elapsed_time = elapsed_time * 2 * 8 * 8 * 60000\n",
    "print(elapsed_time)"
   ]
  },
  {
   "cell_type": "code",
   "execution_count": null,
   "metadata": {
    "id": "ps_5iveA6Niw"
   },
   "outputs": [],
   "source": []
  },
  {
   "cell_type": "code",
   "execution_count": 32,
   "metadata": {
    "colab": {
     "base_uri": "https://localhost:8080/"
    },
    "id": "9WeQnoXm8FzE",
    "outputId": "5f3430f4-8354-40e7-d21a-dcef8fccc451"
   },
   "outputs": [
    {
     "name": "stdout",
     "output_type": "stream",
     "text": [
      "[[0.3381091  0.85537856 0.6643639  ... 0.29641777 0.89034927 0.6176631 ]\n",
      " [0.49766278 0.60966533 0.5780866  ... 0.03796885 0.20275655 0.7549373 ]\n",
      " [0.62717726 0.72561317 0.69448731 ... 0.86867999 0.66050598 0.24966245]\n",
      " ...\n",
      " [0.02307368 0.29000657 0.88692707 ... 0.72261146 0.43814858 0.03599147]\n",
      " [0.02225676 0.7520317  0.69828048 ... 0.68998848 0.50608065 0.07387714]\n",
      " [0.6741526  0.08499479 0.79860877 ... 0.73686083 0.81158448 0.16329498]]\n",
      "[[0.85537856 0.3381091  0.29641777 ... 0.6643639  0.6176631  0.89034927]\n",
      " [0.60966533 0.49766278 0.03796885 ... 0.5780866  0.7549373  0.20275655]\n",
      " [0.72561317 0.62717726 0.86867999 ... 0.69448731 0.24966245 0.66050598]\n",
      " ...\n",
      " [0.29000657 0.02307368 0.72261146 ... 0.88692707 0.03599147 0.43814858]\n",
      " [0.7520317  0.02225676 0.68998848 ... 0.69828048 0.07387714 0.50608065]\n",
      " [0.08499479 0.6741526  0.73686083 ... 0.79860877 0.16329498 0.81158448]]\n"
     ]
    }
   ],
   "source": [
    "A_mat = np.random.random((60000,8))\n",
    "B_mat = A_mat[ : , [1,0,5,4,3,2,7,6]]\n",
    "\n",
    "print(A_mat)\n",
    "print(B_mat)"
   ]
  },
  {
   "cell_type": "code",
   "execution_count": 33,
   "metadata": {
    "colab": {
     "base_uri": "https://localhost:8080/"
    },
    "id": "K9lErqKU8LHT",
    "outputId": "57c9a407-8576-4dbe-c521-4c95cfbf112b"
   },
   "outputs": [
    {
     "name": "stdout",
     "output_type": "stream",
     "text": [
      "[ 0.3012406   0.36008797  0.01909336 ...  0.01113458  0.65504299\n",
      " -0.15723033]\n",
      "[0 0 0 ... 0 0 1]\n",
      "[-1.20647585  0.19361208 -0.09736159 ... -0.89632548 -0.29191056\n",
      " -0.72658342]\n",
      "[1 0 1 ... 1 1 1]\n",
      "\n",
      "[2 0 2 ... 2 2 6]\n",
      "[4 0 4 ... 4 4 6]\n",
      "0.617\n",
      "0.617\n"
     ]
    }
   ],
   "source": [
    "A_self_w = math.cos(math.radians(90))\n",
    "A_other_w = math.sin(math.radians(90))\n",
    "\n",
    "A_w = np.array([A_self_w,A_other_w,A_self_w,A_other_w,-A_self_w,-A_other_w,-A_self_w,-A_other_w])\n",
    "\n",
    "A_result = np.dot(A_mat,A_w)\n",
    "print(A_result)\n",
    "A_result = np.where(A_result >= 0, 0,1)\n",
    "print(A_result)\n",
    "\n",
    "B_self_w = math.cos(math.radians(90))\n",
    "B_other_w = math.sin(math.radians(90))\n",
    "\n",
    "B_w = np.array([B_self_w,B_other_w,B_self_w,B_other_w,-B_self_w,-B_other_w,-B_self_w,-B_other_w])\n",
    "\n",
    "B_result = np.dot(B_mat,B_w)\n",
    "print(B_result)\n",
    "B_result = np.where(B_result >= 0, 0,1)\n",
    "print(B_result)\n",
    "\n",
    "print()\n",
    "A_score_array = ( 2 * A_result + B_result ) * 2\n",
    "print(A_score_array)\n",
    "B_score_array = ( 2 * B_result + A_result ) * 2\n",
    "print(B_score_array)\n",
    "\n",
    "A_score = 0\n",
    "B_score = 0\n",
    "for i in range(len(A_score_array)):\n",
    "  A_score += A_mat[i][A_score_array[i]]\n",
    "  B_score += B_mat[i][B_score_array[i]]\n",
    "\n",
    "A_score = A_score / len(A_score_array)\n",
    "print(\"{:.3f}\".format(A_score))\n",
    "B_score = B_score / len(B_score_array)\n",
    "print(\"{:.3f}\".format(B_score))\n"
   ]
  },
  {
   "cell_type": "code",
   "execution_count": 45,
   "metadata": {
    "id": "PDW_jpIlAcer"
   },
   "outputs": [],
   "source": [
    "def JoiSimuFaster(game_N,A_angle,B_angle):\n",
    "  #print(\"test start\")\n",
    "  A_mat = np.random.random((game_N,8))\n",
    "  B_mat = A_mat[ : , [1,0,5,4,3,2,7,6]]\n",
    "\n",
    "  A_self_w = math.cos(math.radians(A_angle))\n",
    "  A_other_w = math.sin(math.radians(A_angle))\n",
    "  A_w = np.array([A_self_w,A_other_w,A_self_w,A_other_w,-A_self_w,-A_other_w,-A_self_w,-A_other_w])\n",
    "  A_result = np.dot(A_mat,A_w)\n",
    "  A_result = np.where(A_result >= 0, 0,1)\n",
    "\n",
    "  B_self_w = math.cos(math.radians(B_angle))\n",
    "  B_other_w = math.sin(math.radians(B_angle))\n",
    "  B_w = np.array([B_self_w,B_other_w,B_self_w,B_other_w,-B_self_w,-B_other_w,-B_self_w,-B_other_w])\n",
    "  B_result = np.dot(B_mat,B_w)\n",
    "  B_result = np.where(B_result >= 0, 0,1)\n",
    "\n",
    "  A_score_array = ( 2 * A_result + B_result ) * 2\n",
    "  B_score_array = ( 2 * B_result + A_result ) * 2\n",
    "\n",
    "  A_score = 0\n",
    "  B_score = 0\n",
    "  for i in range(game_N):\n",
    "    A_score += A_mat[i][A_score_array[i]]\n",
    "    B_score += B_mat[i][B_score_array[i]]\n",
    "\n",
    "  A_score = A_score / game_N\n",
    "  #print(\"{:.3f}\".format(A_score))\n",
    "  B_score = B_score / game_N\n",
    "  #print(\"{:.3f}\".format(B_score))\n",
    "\n",
    "  return B_score"
   ]
  },
  {
   "cell_type": "code",
   "execution_count": 66,
   "metadata": {
    "colab": {
     "base_uri": "https://localhost:8080/"
    },
    "id": "Usiud7nsNK8Z",
    "outputId": "8f322908-bb19-4ee3-86ae-85f55c96083e"
   },
   "outputs": [
    {
     "data": {
      "text/plain": [
       "0.6164074211750931"
      ]
     },
     "execution_count": 66,
     "metadata": {},
     "output_type": "execute_result"
    }
   ],
   "source": [
    "JoiSimuFaster(60000,90,90)"
   ]
  },
  {
   "cell_type": "code",
   "execution_count": 69,
   "metadata": {
    "colab": {
     "base_uri": "https://localhost:8080/"
    },
    "id": "mMjpxeJZNVdS",
    "outputId": "8be49b93-bb38-4896-dab0-2a263d708eb1"
   },
   "outputs": [
    {
     "name": "stdout",
     "output_type": "stream",
     "text": [
      "none      Alt       Coo       Ind       Com       Agg       Sam       Mas       Mar       \n",
      "Alt            0.618     0.698     0.736     0.698     0.615     0.536     0.499     0.534\n",
      "Coo            0.583     0.663     0.699     0.663     0.581     0.499     0.467     0.498\n",
      "Ind            0.502     0.580     0.616     0.581     0.502     0.418     0.383     0.418\n",
      "Com            0.417     0.500     0.535     0.499     0.416     0.337     0.301     0.336\n",
      "Agg            0.382     0.463     0.500     0.466     0.385     0.302     0.267     0.300\n",
      "Sam            0.416     0.499     0.534     0.500     0.418     0.337     0.302     0.336\n",
      "Mas            0.499     0.583     0.617     0.583     0.498     0.418     0.380     0.418\n",
      "Mar            0.581     0.663     0.697     0.664     0.582     0.499     0.464     0.499\n"
     ]
    }
   ],
   "source": [
    "\n",
    "SVO_name_list = [\"Alt\",\"Coo\",\"Ind\",\"Com\",\"Agg\",\"Sam\",\"Mas\",\"Mar\"]\n",
    "SVO_angle_list = [90,45,0,-45,-90,-135,180,135]\n",
    "\n",
    "ss_result_list = [[\"none\"]+SVO_name_list]\n",
    "\n",
    "for i in range(len(SVO_angle_list)):\n",
    "  a = [SVO_name_list[i]]\n",
    "  for j in range(len(SVO_angle_list)):\n",
    "    a.append(JoiSimuFaster(60000,SVO_angle_list[i],SVO_angle_list[j]))\n",
    "  ss_result_list.append(a)\n",
    "\n",
    "for i in range(len(ss_result_list)):\n",
    "  for j in range(len(ss_result_list[i])):\n",
    "    if i == 0  or j == 0:\n",
    "      print(\"{:10}\".format(ss_result_list[i][j]), end=\"\")\n",
    "    else:\n",
    "      print(\"{:10.3f}\".format(ss_result_list[i][j]), end=\"\")\n",
    "  print()  # 行ごとの改行のため"
   ]
  },
  {
   "cell_type": "code",
   "execution_count": 70,
   "metadata": {
    "colab": {
     "base_uri": "https://localhost:8080/",
     "height": 404
    },
    "id": "KyQrqujjOlhb",
    "outputId": "b7b83ac3-cacb-425d-ff53-6c7b43696a2b"
   },
   "outputs": [
    {
     "data": {
      "image/png": "[encoded data removed]",
      "text/plain": [
       "<Figure size 576x432 with 1 Axes>"
      ]
     },
     "metadata": {
      "needs_background": "light"
     },
     "output_type": "display_data"
    }
   ],
   "source": [
    "evo_result_gene = EvoSimu(100,ss_result_list,100)\n",
    "\n",
    "plotSimuResult(evo_result_gene,ss_result_list)"
   ]
  },
  {
   "cell_type": "code",
   "execution_count": 8,
   "metadata": {
    "id": "f2178DqBRnA7"
   },
   "outputs": [
    {
     "name": "stdout",
     "output_type": "stream",
     "text": [
      "4\n",
      "4\n",
      "4\n",
      "4\n",
      "4\n",
      "4\n",
      "28.004862308502197\n"
     ]
    }
   ],
   "source": [
    "import time\n",
    "\n",
    "t1 = time.time() \n",
    "\n",
    "for i in range(60000):\n",
    "    for j in range(1000):\n",
    "        for k in range(8):\n",
    "            a = 4+2\n",
    "        a = 2+2\n",
    "    if i%10000 == 0:\n",
    "        print(a)\n",
    "    a = 1+1\n",
    "    \n",
    "t2 = time.time()\n",
    "\n",
    "print(t2-t1)"
   ]
  },
  {
   "cell_type": "code",
   "execution_count": null,
   "metadata": {},
   "outputs": [],
   "source": []
  }
 ],
 "metadata": {
  "colab": {
   "collapsed_sections": [],
   "name": "evo_simu.ipynb",
   "provenance": []
  },
  "kernelspec": {
   "display_name": "Python 3 (ipykernel)",
   "language": "python",
   "name": "python3"
  },
  "language_info": {
   "codemirror_mode": {
    "name": "ipython",
    "version": 3
   },
   "file_extension": ".py",
   "mimetype": "text/x-python",
   "name": "python",
   "nbconvert_exporter": "python",
   "pygments_lexer": "ipython3",
   "version": "3.9.12"
  }
 },
 "nbformat": 4,
 "nbformat_minor": 1
}
