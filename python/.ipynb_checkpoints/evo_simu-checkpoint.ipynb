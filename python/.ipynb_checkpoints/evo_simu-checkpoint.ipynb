{
 "cells": [
  {
   "cell_type": "markdown",
   "metadata": {
    "id": "d3JFtz9bc3Za"
   },
   "source": [
    "## import情報"
   ]
  },
  {
   "cell_type": "code",
   "execution_count": 1,
   "metadata": {
    "id": "7Try5tR1c3Os"
   },
   "outputs": [],
   "source": [
    "#乱数生成に使用する\n",
    "from numpy.random import *\n",
    "\n",
    "import numpy as np\n",
    "\n",
    "import matplotlib.pyplot as plt\n",
    "from matplotlib.pyplot import figure"
   ]
  },
  {
   "cell_type": "markdown",
   "metadata": {
    "id": "e-oU_GDpU8Tu"
   },
   "source": [
    "## 大まかな目標\n",
    "\n",
    "2×2マトリックスゲームで、2人のプレイヤー（エージェント）がそれぞれ戦略を持ち、戦略ごとに総当たり（一応、100回）で対戦を行う。その平均が、組み合わせでの獲得利得（報酬）である。これで、対戦による結果表を作る。\n",
    "\n",
    "次に、対戦結果表をもとに、初期人口を設定し、シミュレーションする（何世代でもOK）。まずは、この基礎手順を実装しよう。"
   ]
  },
  {
   "cell_type": "markdown",
   "metadata": {
    "id": "uIVbSi4UVg77"
   },
   "source": [
    "## クラスの定義\n",
    "\n",
    "さっそく、ゲームのプレイヤー（エージェント）を定義しよう。やることとしては、\n",
    "\n",
    "・最初は何を出すか\n",
    "\n",
    "・それ以降は何を出すか\n",
    "\n",
    "など、選択に関する関数を作ろう。ここが戦略にあたると思う。\n",
    "\n",
    "次に保存先。自分が100回対戦して得た得点とその対戦者、そして対戦回数（100回だろ、というのは野暮。どうせ回数変更するし）。\n",
    "これは、対戦者ごとに設定するのが良いかも。\n",
    "\n",
    "こうして出来上がったクラスを継承して、他の戦略エージェントを定義する。"
   ]
  },
  {
   "cell_type": "markdown",
   "metadata": {
    "id": "v2EK8cjyYGsT"
   },
   "source": [
    "下のclass、BaseAgentModelは、点数リスト、対戦相手リストを持ち、playによって今何ラウンド目かを表示するもの。ただ、やってみたら変わるかもしれない。"
   ]
  },
  {
   "cell_type": "code",
   "execution_count": 2,
   "metadata": {
    "id": "ubUn8OuYUbnM"
   },
   "outputs": [],
   "source": [
    "#すべての大本となるエージェントのclass\n",
    "class BaseAgentModel:\n",
    "\n",
    "  #自分の名前：\n",
    "  NAME = \"BaseAgentModel\"\n",
    "\n",
    "  #保存先：対戦して得た点数の配列\n",
    "  score_list = []\n",
    "\n",
    "  #保存先：対戦者のリスト配列\n",
    "  opponent_name_list = []\n",
    "\n",
    "  #保存先：対戦者の1個前の手\n",
    "  opponent_before_chose = []\n",
    "\n",
    "  #関数：初期化する\n",
    "  def listInit(self):\n",
    "    self.opponent_before_chose = []\n",
    "\n",
    "  #関数：（関数宣言で第一引数はselfにすること）\n",
    "  def play(self,round):\n",
    "\n",
    "    #0～1を返す乱数\n",
    "    chose = randint(2)\n",
    "    print(\"play: \",round,\" round: chose \",chose)\n",
    "\n",
    "    return chose\n",
    "\n",
    "  #関数：相手の手を記録する\n",
    "  def memo(self,opponent_chose):\n",
    "    self.opponent_before_chose = [opponent_chose]"
   ]
  },
  {
   "cell_type": "markdown",
   "metadata": {
    "id": "AmT1LKebYUuj"
   },
   "source": [
    "playをテストしてみた。よさそうだ。"
   ]
  },
  {
   "cell_type": "code",
   "execution_count": 3,
   "metadata": {
    "colab": {
     "base_uri": "https://localhost:8080/"
    },
    "id": "GsZ7aO6iXpC-",
    "outputId": "36a976b2-ddf6-4ad0-96bb-a98415180f8f"
   },
   "outputs": [
    {
     "name": "stdout",
     "output_type": "stream",
     "text": [
      "[]\n",
      "play:  10  round: chose  0\n",
      "[0]\n",
      "play:  10  round: chose  0\n",
      "[0]\n",
      "play:  10  round: chose  1\n",
      "[0]\n",
      "play:  10  round: chose  0\n",
      "[0]\n",
      "play:  10  round: chose  1\n",
      "[0]\n",
      "play:  10  round: chose  0\n",
      "[0]\n",
      "play:  10  round: chose  0\n",
      "[0]\n",
      "play:  10  round: chose  0\n",
      "[0]\n",
      "play:  10  round: chose  0\n",
      "[0]\n",
      "play:  10  round: chose  1\n"
     ]
    }
   ],
   "source": [
    "mm = BaseAgentModel()\n",
    "for i in range(10):\n",
    "  print(mm.opponent_before_chose)\n",
    "  mm.play(10)\n",
    "  mm.memo(0)"
   ]
  },
  {
   "cell_type": "markdown",
   "metadata": {
    "id": "uIExM6wnYk1H"
   },
   "source": [
    "継承して、Cだけを選び続けるclassを作ろう、と思ったが、そもそもどういうゲームなの？という定義を忘れていたので、ゲームを定義しよう。\n",
    "\n",
    "下のclassは、マトリックス情報と、プレイヤー（エージェント）の選択（上か下かがAプレイヤー、右か左かがBプレイヤー。）からスコアを2つ返す関数を持つ。"
   ]
  },
  {
   "cell_type": "code",
   "execution_count": 4,
   "metadata": {
    "id": "zRht0qHYX92p"
   },
   "outputs": [],
   "source": [
    "class MatrixState:\n",
    "\n",
    "  #マトリックスのリスト\n",
    "  matrix = [0,0,0,0,\n",
    "            0,0,0,0]\n",
    "\n",
    "  #マトリックスを初期化する\n",
    "  def __init__(self):\n",
    "    self.matrix = [0,0,0,0,\n",
    "              0,0,0,0]\n",
    "\n",
    "  #マトリックスをある値に初期化する\n",
    "  def __init__(self,a,b,c,d,e,f,g,h):\n",
    "    self.matrix = [a,b,c,d,\n",
    "              e,f,g,h]\n",
    "\n",
    "  def printMatrix(self):\n",
    "    print(self.matrix)\n",
    "\n",
    "  #値を読みだす\n",
    "  #choseは0と1。0が上・左、1が下・右\n",
    "  def getScore(self,chose_player_A,chose_player_B):\n",
    "    result_index = chose_player_A * 2 + chose_player_B\n",
    "    \n",
    "    #indexが3を超えたらエラー\n",
    "    if result_index > 3:\n",
    "      print(\"error: over 3 in index...\")\n",
    "      return 0\n",
    "\n",
    "    A_score = self.matrix[result_index*2]\n",
    "    B_score = self.matrix[result_index*2+1]\n",
    "    #print(\"A score:\",A_score)\n",
    "    #print(\"B score:\",B_score)\n",
    "\n",
    "    return A_score,B_score"
   ]
  },
  {
   "cell_type": "code",
   "execution_count": 5,
   "metadata": {
    "colab": {
     "base_uri": "https://localhost:8080/"
    },
    "id": "jBYqYmBwZamY",
    "outputId": "03c79c5d-fbce-44f4-9b53-f26ce43472d8"
   },
   "outputs": [
    {
     "name": "stdout",
     "output_type": "stream",
     "text": [
      "[1, 2, 4, 5, 2, 0, 2, 0]\n",
      "error: over 3 in index...\n"
     ]
    },
    {
     "data": {
      "text/plain": [
       "0"
      ]
     },
     "execution_count": 5,
     "metadata": {},
     "output_type": "execute_result"
    }
   ],
   "source": [
    "mmm = MatrixState(1,2,4,5,2,0,2,0)\n",
    "mmm.printMatrix()\n",
    "mmm.getScore(1,2)"
   ]
  },
  {
   "cell_type": "markdown",
   "metadata": {
    "id": "NaqNW8h7cREm"
   },
   "source": [
    "さっそくエージェントを定義しよう。すべてAを選ぶ（AllaまたはAllc戦略だね）エージェントを考えよう。もちろん、ベースのclassを継承する。"
   ]
  },
  {
   "cell_type": "code",
   "execution_count": 6,
   "metadata": {
    "id": "wlX01vsdZiUJ"
   },
   "outputs": [],
   "source": [
    "class AllAAgentModel(BaseAgentModel):\n",
    "\n",
    "  NAME = \"ALL_A\"\n",
    "\n",
    "  def play(self,round):\n",
    "\n",
    "    #必ず0（C）を選ぶ\n",
    "    chose = 0\n",
    "\n",
    "    #print(\"play: \",round,\" round: chose \",chose)\n",
    "\n",
    "    return chose"
   ]
  },
  {
   "cell_type": "markdown",
   "metadata": {
    "id": "sIF2X0EDfBDg"
   },
   "source": [
    "定義したclassを確認。問題なく継承されていそうだ。"
   ]
  },
  {
   "cell_type": "code",
   "execution_count": 7,
   "metadata": {
    "colab": {
     "base_uri": "https://localhost:8080/"
    },
    "id": "8UW4B--cesLM",
    "outputId": "84aacb73-637d-4204-e4ee-1839dd1ce79b"
   },
   "outputs": [
    {
     "name": "stdout",
     "output_type": "stream",
     "text": [
      "[]\n",
      "[]\n"
     ]
    }
   ],
   "source": [
    "aa = AllAAgentModel()\n",
    "aa.play(10)\n",
    "print(aa.opponent_name_list)\n",
    "print(aa.score_list)"
   ]
  },
  {
   "cell_type": "markdown",
   "metadata": {
    "id": "dbZdX9rHfAre"
   },
   "source": [
    "では早速対戦させてみよう。まずは、すべてCを選ぶ戦略同士で。\n",
    "\n",
    "対戦させる関数を考えようか。"
   ]
  },
  {
   "cell_type": "code",
   "execution_count": 8,
   "metadata": {
    "id": "t0FJUZXZexjH"
   },
   "outputs": [],
   "source": [
    "def Battle(matrix,round,player_A,player_B):\n",
    "\n",
    "  #まず、記憶を初期化\n",
    "  player_A.listInit()\n",
    "  player_B.listInit()\n",
    "\n",
    "  A_score = 0\n",
    "  B_score = 0\n",
    "\n",
    "  #forループで回数をこなす\n",
    "  for i in range(round):\n",
    "    A_chose = player_A.play(i)\n",
    "    B_chose = player_B.play(i)\n",
    "\n",
    "    score = matrix.getScore(A_chose,B_chose)\n",
    "\n",
    "    A_score += score[0]\n",
    "    B_score += score[1]\n",
    "\n",
    "    player_A.memo(B_chose)\n",
    "    player_B.memo(A_chose)\n",
    "\n",
    "  A_score = A_score / round\n",
    "  B_score = B_score / round\n",
    "\n",
    "  #print(\"result : A = \",A_score,\": B = \",B_score)\n",
    "\n",
    "  return A_score,B_score"
   ]
  },
  {
   "cell_type": "markdown",
   "metadata": {
    "id": "iCZjF0skhSxB"
   },
   "source": [
    "問題はなさそうだ。ということは、playをちゃんと設定すれば、うまく動くということだね。"
   ]
  },
  {
   "cell_type": "code",
   "execution_count": 9,
   "metadata": {
    "colab": {
     "base_uri": "https://localhost:8080/"
    },
    "id": "m1rK666igyTI",
    "outputId": "545873a8-188b-4f26-dec2-b0bd6f588e29"
   },
   "outputs": [
    {
     "data": {
      "text/plain": [
       "(1.0, 2.0)"
      ]
     },
     "execution_count": 9,
     "metadata": {},
     "output_type": "execute_result"
    }
   ],
   "source": [
    "Battle(MatrixState(1,2,3,4,5,6,7,8),100,AllAAgentModel(),AllAAgentModel())"
   ]
  },
  {
   "cell_type": "markdown",
   "metadata": {
    "id": "PIp4lnkKhnvM"
   },
   "source": [
    "じゃあ、教科書のマトリックスをPD_matとして、これからはこれを使うとしよう。\n",
    "あと、ラウンド数も100回にしよう。"
   ]
  },
  {
   "cell_type": "code",
   "execution_count": 10,
   "metadata": {
    "id": "cZLI4gZ8g4s0"
   },
   "outputs": [],
   "source": [
    "PD_mat = MatrixState(6,6,0,8,8,0,2,2)\n",
    "\n",
    "ROUND_N = 100"
   ]
  },
  {
   "cell_type": "markdown",
   "metadata": {
    "id": "-8_Bj4hYiK8s"
   },
   "source": [
    "すべて1（D）を選ぶエージェントの定義は、0（C）の場合をそのまま使えるね。"
   ]
  },
  {
   "cell_type": "code",
   "execution_count": 11,
   "metadata": {
    "id": "bZb4svkhh4RL"
   },
   "outputs": [],
   "source": [
    "class AllBAgentModel(BaseAgentModel):\n",
    "\n",
    "  NAME = \"ALL_B\"\n",
    "\n",
    "  def play(self,round):\n",
    "\n",
    "    #必ず1（D）を選ぶ\n",
    "    chose = 1\n",
    "\n",
    "    #print(\"play: \",round,\" round: chose \",chose)\n",
    "\n",
    "    return chose"
   ]
  },
  {
   "cell_type": "markdown",
   "metadata": {
    "id": "2TctBVsJigO5"
   },
   "source": [
    "次はランダムだけど、大本と同じだね。"
   ]
  },
  {
   "cell_type": "code",
   "execution_count": 12,
   "metadata": {
    "id": "PpTp4uT3igqb"
   },
   "outputs": [],
   "source": [
    "class RandomAgentModel(BaseAgentModel):\n",
    "\n",
    "  #自分の名前：\n",
    "  NAME = \"Random\"\n",
    "\n",
    "  def play(self,round):\n",
    "\n",
    "    #0～1を返す乱数、つまり0か1を返す\n",
    "    chose = randint(2)\n",
    "    #print(\"play: \",round,\" round: chose \",chose)\n",
    "\n",
    "    return chose"
   ]
  },
  {
   "cell_type": "markdown",
   "metadata": {
    "id": "nLeko_hBjGdW"
   },
   "source": [
    "とりあえず、この3戦略で試合をして、表を作る。"
   ]
  },
  {
   "cell_type": "code",
   "execution_count": 13,
   "metadata": {
    "colab": {
     "base_uri": "https://localhost:8080/"
    },
    "id": "_x0Z-FTGi-Vf",
    "outputId": "4e71668d-b78f-4755-98ab-4a581d73bd40"
   },
   "outputs": [
    {
     "name": "stdout",
     "output_type": "stream",
     "text": [
      "['ALL_A', 'ALL_B', 'Random']\n",
      "\n",
      "none      ALL_A     ALL_B     Random    \n",
      "ALL_A            6.0       0.0      2.64\n",
      "ALL_B            8.0       2.0      5.18\n",
      "Random          6.88      1.02      3.36\n"
     ]
    }
   ],
   "source": [
    "#リスト：3×3になるかな（厳密には、4×4だろうけど）\n",
    "result_list_01 = []\n",
    "\n",
    "#参加者の名前リスト\n",
    "join_name_list = []\n",
    "\n",
    "#参加者のインスタンスのリスト\n",
    "join_instance_list = []\n",
    "\n",
    "#戦略のエージェントを用意\n",
    "All_A_01 = AllAAgentModel()\n",
    "All_B_01 = AllBAgentModel()\n",
    "Random_01 = RandomAgentModel()\n",
    "\n",
    "join_name_list.append(All_A_01.NAME)\n",
    "join_name_list.append(All_B_01.NAME)\n",
    "join_name_list.append(Random_01.NAME)\n",
    "\n",
    "print(join_name_list)\n",
    "\n",
    "join_instance_list.append(All_A_01)\n",
    "join_instance_list.append(All_B_01)\n",
    "join_instance_list.append(Random_01)\n",
    "\n",
    "for i in range(len(join_instance_list)):\n",
    "  \n",
    "  #結果のリスト\n",
    "  result_list = [join_instance_list[i].NAME]\n",
    "\n",
    "  for j in range(len(join_instance_list)):\n",
    "    #対戦を入れる\n",
    "    result_list.append(Battle(PD_mat,ROUND_N,join_instance_list[i],join_instance_list[j])[0])\n",
    "\n",
    "  #総当たりが終わったら、結果のリストを4×4のリストに入れる\n",
    "  result_list_01.append(result_list)\n",
    "\n",
    "\n",
    "#最初に入れる\n",
    "join_name_list.insert(0,\"none\")\n",
    "result_list_01.insert(0,join_name_list)\n",
    "\n",
    "#print(result_list_01)\n",
    "\n",
    "print()\n",
    "for i in range(len(result_list_01)):\n",
    "    for j in range(len(result_list_01[i])):\n",
    "        print(\"{:10}\".format(result_list_01[i][j]), end=\"\")\n",
    "    print()  # 行ごとの改行のため"
   ]
  },
  {
   "cell_type": "markdown",
   "metadata": {
    "id": "lGZ_smc-nHky"
   },
   "source": [
    "ふむふむ。だいたい教科書と同じ値になりましたな。\n",
    "\n",
    "手順をまとめると、\n",
    "\n",
    "・結果表示リストの用意（あとで計算に使える）\n",
    "\n",
    "・参加する戦略の名前リスト（多分いらない。参照して後から追加すればよし）\n",
    "\n",
    "・参加する戦略の実際のインスタンスのリスト（重要。参照先をリスト管理すれば、forループだけど簡単にシミュレーションできる。）\n",
    "\n",
    "・インスタンスの宣言とリストに投入\n",
    "\n",
    "・実際に、リスト数だけ対戦していく。\n",
    "\n",
    "・結果を表に出力\n",
    "\n",
    "という感じだね。参加する戦略リストを引数にすれば、関数にできそう。"
   ]
  },
  {
   "cell_type": "code",
   "execution_count": 14,
   "metadata": {
    "id": "Mrr-x-LIkFfy"
   },
   "outputs": [],
   "source": [
    "#参加する戦略のclassのリストを受け取る。\n",
    "def BattleResultList(join_instance_list,matrix_list,round_n=ROUND_N):\n",
    "\n",
    "  #リスト：3×3になるかな（厳密には、4×4だろうけど）\n",
    "  battle_result_list = []\n",
    "\n",
    "  #参加者の名前リスト\n",
    "  join_name_list = []\n",
    "\n",
    "  #人数分、名前を追加\n",
    "  #最初に空白を入れる\n",
    "  join_name_list.append(\"none\")\n",
    "\n",
    "  for i in range(len(join_instance_list)):\n",
    "    join_name_list.append(join_instance_list[i].NAME)\n",
    "\n",
    "  #第1列目に投入\n",
    "  battle_result_list.append(join_name_list)\n",
    "\n",
    "  for i in range(len(join_instance_list)):\n",
    "    \n",
    "    #結果のリスト\n",
    "    result_list = [join_instance_list[i].NAME]\n",
    "\n",
    "    for j in range(len(join_instance_list)):\n",
    "      #対戦を入れる\n",
    "      result_list.append(Battle(matrix_list,round_n,join_instance_list[i],join_instance_list[j])[0])\n",
    "\n",
    "    #総当たりが終わったら、結果のリストを4×4のリストに入れる\n",
    "    battle_result_list.append(result_list)\n",
    "\n",
    "  #print(battle_result_list)\n",
    "\n",
    "  print()\n",
    "  for i in range(len(battle_result_list)):\n",
    "      for j in range(len(battle_result_list[i])):\n",
    "          print(\"{:10}\".format(battle_result_list[i][j]), end=\"\")\n",
    "      print()  # 行ごとの改行のため\n",
    "\n",
    "  return battle_result_list"
   ]
  },
  {
   "cell_type": "markdown",
   "metadata": {
    "id": "5Csee2kvrRfn"
   },
   "source": [
    "関数化した。うまく動いていそうだ。"
   ]
  },
  {
   "cell_type": "code",
   "execution_count": 15,
   "metadata": {
    "colab": {
     "base_uri": "https://localhost:8080/"
    },
    "id": "sm1SYAgEqD-F",
    "outputId": "b37a1cb5-32fa-4594-8247-b4c236f6631e"
   },
   "outputs": [
    {
     "name": "stdout",
     "output_type": "stream",
     "text": [
      "\n",
      "none      ALL_A     ALL_B     Random    \n",
      "ALL_A            6.0       0.0      2.76\n",
      "ALL_B            8.0       2.0      4.82\n",
      "Random          7.16      1.02      3.76\n"
     ]
    }
   ],
   "source": [
    "mya = BattleResultList(join_instance_list,PD_mat)"
   ]
  },
  {
   "cell_type": "markdown",
   "metadata": {
    "id": "pKga-gitrWWB"
   },
   "source": [
    "しっぺ返し戦略を定義しよう。記憶が必要になり、少しだけ複雑になるぞ。\n",
    "\n",
    "ここで、記憶できるよう、大本にmemo関数を追加した。ここからは、このmemo関数も利用するよ。"
   ]
  },
  {
   "cell_type": "code",
   "execution_count": 16,
   "metadata": {
    "id": "vxNTSf50qJMD"
   },
   "outputs": [],
   "source": [
    "class TFTAgentModel(BaseAgentModel):\n",
    "\n",
    "  #自分の名前：\n",
    "  NAME = \"TFT\"\n",
    "\n",
    "  def play(self,round):\n",
    "\n",
    "    #前の手がないなら、0を選ぶ\n",
    "    if len(self.opponent_before_chose) == 0:\n",
    "      chose = 0\n",
    "\n",
    "    else:\n",
    "      if self.opponent_before_chose[0] == 0:\n",
    "        chose = 0\n",
    "      else:\n",
    "        chose = 1\n",
    "\n",
    "    #print(\"play: \",round,\" round: chose \",chose)\n",
    "\n",
    "    return chose\n",
    "\n",
    "  def memo(self,opponent_chose):\n",
    "    self.opponent_before_chose = [opponent_chose]"
   ]
  },
  {
   "cell_type": "markdown",
   "metadata": {
    "id": "nq8sOzGuv4bx"
   },
   "source": [
    "大丈夫そうだ。じゃあ、戦略をすべてにしよう。"
   ]
  },
  {
   "cell_type": "code",
   "execution_count": 17,
   "metadata": {
    "colab": {
     "base_uri": "https://localhost:8080/"
    },
    "id": "oFBY1Lcrtkoe",
    "outputId": "f34d3bd0-0920-446a-ff70-7a62a6eacc0c"
   },
   "outputs": [
    {
     "name": "stdout",
     "output_type": "stream",
     "text": [
      "\n",
      "none      ALL_A     ALL_B     Random    TFT       \n",
      "ALL_A            6.0       0.0       3.0       6.0\n",
      "ALL_B            8.0       2.0      4.76      2.06\n",
      "Random          7.02      1.02       4.2      3.92\n",
      "TFT              6.0      1.98      3.66       6.0\n"
     ]
    }
   ],
   "source": [
    "#戦略のエージェントを用意\n",
    "All_A_02 = AllAAgentModel()\n",
    "All_B_02 = AllBAgentModel()\n",
    "Random_02 = RandomAgentModel()\n",
    "TFT_02 = TFTAgentModel()\n",
    "\n",
    "#参加者のインスタンスのリスト\n",
    "join_instance_list = [All_A_02,All_B_02,Random_02,TFT_02]\n",
    "\n",
    "mya_2 = BattleResultList(join_instance_list,PD_mat)"
   ]
  },
  {
   "cell_type": "markdown",
   "metadata": {
    "id": "2hoWLkT2v8Hz"
   },
   "source": [
    "半返し戦略（TFTT）。2回1を選ばれたら1を選ぶ（報復は半分）"
   ]
  },
  {
   "cell_type": "code",
   "execution_count": 18,
   "metadata": {
    "id": "ya2O3jy8uDbc"
   },
   "outputs": [],
   "source": [
    "class TFTTAgentModel(BaseAgentModel):\n",
    "\n",
    "  #自分の名前：\n",
    "  NAME = \"TFTT\"\n",
    "\n",
    "  def play(self,round):\n",
    "\n",
    "    #前の手がないなら、0を選ぶ\n",
    "    if len(self.opponent_before_chose) == 0:\n",
    "      chose = 0\n",
    "\n",
    "    else:\n",
    "      if len(self.opponent_before_chose) == 1:\n",
    "        chose = 0\n",
    "\n",
    "      else:\n",
    "        if self.opponent_before_chose[0] == 1 and self.opponent_before_chose[1] == 1:\n",
    "          chose = 1\n",
    "        else:\n",
    "          chose = 0\n",
    "\n",
    "    #print(\"play: \",round,\" round: chose \",chose)\n",
    "\n",
    "    return chose\n",
    "\n",
    "  def memo(self,opponent_chose):\n",
    "    if len(self.opponent_before_chose) == 0 or len(self.opponent_before_chose) == 1:\n",
    "      self.opponent_before_chose.append(opponent_chose)\n",
    "    else:\n",
    "      self.opponent_before_chose[0] = self.opponent_before_chose[1]\n",
    "      self.opponent_before_chose[1] = opponent_chose"
   ]
  },
  {
   "cell_type": "markdown",
   "metadata": {
    "id": "H-X-FnEuxQZc"
   },
   "source": [
    "倍返し戦略（TTFAT）。1を選ばれたら、2回1を選ぶ（倍の報復）。"
   ]
  },
  {
   "cell_type": "code",
   "execution_count": 19,
   "metadata": {
    "id": "pUS8HTeWxmIE"
   },
   "outputs": [],
   "source": [
    "class TTFATAgentModel(BaseAgentModel):\n",
    "\n",
    "  #自分の名前：\n",
    "  NAME = \"TTFAT\"\n",
    "\n",
    "  def play(self,round):\n",
    "\n",
    "    #前の手がないなら、0を選ぶ\n",
    "    if len(self.opponent_before_chose) == 0:\n",
    "      chose = 0\n",
    "\n",
    "    else:\n",
    "      if len(self.opponent_before_chose) == 1:\n",
    "        if self.opponent_before_chose[0] == 1:\n",
    "          chose = 1\n",
    "        else:\n",
    "          chose = 0\n",
    "\n",
    "      else:\n",
    "        if self.opponent_before_chose[0] == 1 or self.opponent_before_chose[1] == 1:\n",
    "          chose = 1\n",
    "        else:\n",
    "          chose = 0\n",
    "\n",
    "    #print(\"play: \",round,\" round: chose \",chose)\n",
    "\n",
    "    return chose\n",
    "\n",
    "  def memo(self,opponent_chose):\n",
    "    if len(self.opponent_before_chose) == 0 or len(self.opponent_before_chose) == 1:\n",
    "      self.opponent_before_chose.append(opponent_chose)\n",
    "    else:\n",
    "      self.opponent_before_chose[0] = self.opponent_before_chose[1]\n",
    "      self.opponent_before_chose[1] = opponent_chose"
   ]
  },
  {
   "cell_type": "markdown",
   "metadata": {
    "id": "qd_TTJPgydht"
   },
   "source": [
    "トリガー戦略（Trigger）。1回でも1を選ばれると、それ以降、ずっと1を選ぶ。"
   ]
  },
  {
   "cell_type": "code",
   "execution_count": 20,
   "metadata": {
    "id": "y1NrWmxIymoY"
   },
   "outputs": [],
   "source": [
    "class TriggerAgentModel(BaseAgentModel):\n",
    "\n",
    "  #自分の名前：\n",
    "  NAME = \"Trigger\"\n",
    "\n",
    "  def play(self,round):\n",
    "\n",
    "    #前の手がないなら、0を選ぶ\n",
    "    if len(self.opponent_before_chose) == 0:\n",
    "      chose = 0\n",
    "\n",
    "    else:\n",
    "      if self.opponent_before_chose[0] == 1:\n",
    "        chose = 1\n",
    "      else:\n",
    "        chose = 0\n",
    "\n",
    "    #print(\"play: \",round,\" round: chose \",chose)\n",
    "\n",
    "    return chose\n",
    "\n",
    "  def memo(self,opponent_chose):\n",
    "    if len(self.opponent_before_chose) == 0:\n",
    "      self.opponent_before_chose.append(opponent_chose)\n",
    "    else:\n",
    "      if opponent_chose == 1:\n",
    "        self.opponent_before_chose[0] = opponent_chose"
   ]
  },
  {
   "cell_type": "code",
   "execution_count": 21,
   "metadata": {
    "colab": {
     "base_uri": "https://localhost:8080/"
    },
    "id": "3R0tXvhlw-r0",
    "outputId": "7d3319e0-339c-48ac-c478-4c9c3e72bf53"
   },
   "outputs": [
    {
     "name": "stdout",
     "output_type": "stream",
     "text": [
      "\n",
      "none      ALL_A     ALL_B     Random    TFT       TFTT      TTFAT     Trigger   \n",
      "ALL_A            6.0       0.0      2.82       6.0       6.0       6.0       6.0\n",
      "ALL_B            8.0       2.0      5.06      2.06      2.12      2.06      2.06\n",
      "Random           6.9       0.9      3.92      4.02      5.68      2.48      1.24\n",
      "TFT              6.0      1.98      3.82       6.0       6.0       6.0       6.0\n",
      "TFTT             6.0      1.96       3.5       6.0       6.0       6.0       6.0\n",
      "TTFAT            6.0      1.98      4.68       6.0       6.0       6.0       6.0\n",
      "Trigger          6.0      1.98      5.14       6.0       6.0       6.0       6.0\n"
     ]
    }
   ],
   "source": [
    "TFTT_03 = TFTTAgentModel()\n",
    "TTFAT_03 = TTFATAgentModel()\n",
    "Trigger_03 = TriggerAgentModel()\n",
    "\n",
    "#参加者のインスタンスのリスト\n",
    "join_instance_list = [All_A_02,All_B_02,Random_02,TFT_02,TFTT_03,TTFAT_03,Trigger_03]\n",
    "\n",
    "mya_3 = BattleResultList(join_instance_list,PD_mat)"
   ]
  },
  {
   "cell_type": "markdown",
   "metadata": {
    "id": "7s88oNBwzZwG"
   },
   "source": [
    "とりあえず、トリガー戦略までできたので、次は人口シミュにいこう。\n",
    "\n",
    "今度、保存すべきなのは、\n",
    "\n",
    "・それぞれの人口（そして推移）\n",
    "\n",
    "・総人口（計算に必要）\n",
    "\n",
    "それぞれの人口は、戦略との点数×その戦略の人口　を戦略ごとで計算し合計。これが点数になる。戦略ですべて計算したら、合計して、総人口で割ることで1人の平均点が出る。\n",
    "\n",
    "その後、人口を変化させる。元の人口×点数÷平均点。平均点とどれくらい差があるかで、増えるか減るかが決まる、ということだ。\n",
    "\n",
    "早速やっていこう。"
   ]
  },
  {
   "cell_type": "code",
   "execution_count": 22,
   "metadata": {
    "id": "qmwj_iEjxJiH"
   },
   "outputs": [],
   "source": [
    "def EvoSimu(generation_N,battle_result_list,population_N):\n",
    "  #初期の人口リスト\n",
    "  population_list = [[population_N] * (len(battle_result_list) - 1)]\n",
    "  #print(population_list)\n",
    "\n",
    "  #点数のリスト\n",
    "  score_list = [[]]\n",
    "\n",
    "  for k in  range(generation_N):\n",
    "    ave_score = 0\n",
    "    population = sum(population_list[k])\n",
    "    #print(population)\n",
    "\n",
    "    for i in range(1,len(battle_result_list)):\n",
    "      sum_score = 0\n",
    "\n",
    "      for j in range(1,len(battle_result_list[i])):\n",
    "        sum_score += population_list[k][j-1] * battle_result_list[i][j]\n",
    "\n",
    "      score_list[k].append(sum_score)\n",
    "      ave_score += sum_score * population_list[k][i-1]\n",
    "\n",
    "    #print(ave_score)\n",
    "    ave_score = ave_score / population\n",
    "    #print(ave_score)\n",
    "\n",
    "    population_list.append([])\n",
    "\n",
    "    for i in range(1,len(battle_result_list)):\n",
    "      result_population = population_list[k][i-1] * score_list[k][i-1] / ave_score\n",
    "\n",
    "      population_list[k+1].append(result_population)\n",
    "\n",
    "    if k < generation_N:\n",
    "      score_list.append([])\n",
    "\n",
    "  #print(population_list)\n",
    "  #print(score_list)\n",
    "\n",
    "  return population_list\n",
    "\n",
    "evo_result_list = EvoSimu(100,mya_3,100)"
   ]
  },
  {
   "cell_type": "markdown",
   "metadata": {
    "id": "At4zKPVoDGbm"
   },
   "source": [
    "できたので、プロットしてみよう"
   ]
  },
  {
   "cell_type": "code",
   "execution_count": 23,
   "metadata": {
    "colab": {
     "base_uri": "https://localhost:8080/",
     "height": 404
    },
    "id": "8EzMIzXT2EI2",
    "outputId": "4e5eb7cc-8ffd-45be-b1a7-8e2171067f66"
   },
   "outputs": [
    {
     "data": {
      "image/png": "[encoded data removed]",
      "text/plain": [
       "<Figure size 576x432 with 1 Axes>"
      ]
     },
     "metadata": {
      "needs_background": "light"
     },
     "output_type": "display_data"
    }
   ],
   "source": [
    "def plotSimuResult(evo_result_list,battle_result_list):\n",
    "  y = np.array(evo_result_list).T\n",
    "\n",
    "  figure(figsize = (8, 6))\n",
    "  x = np.array(range(0, 101))\n",
    "\n",
    "  plt.title(\"Plotting a2-D array\")\n",
    "  plt.xlabel(\"Generation\")\n",
    "  plt.ylabel(\"Population\")\n",
    "\n",
    "  for i, array in enumerate(y):\n",
    "    plt.plot(x, array, label = battle_result_list[i+1][0])\n",
    "    \n",
    "  plt.legend(loc = \"center left\", bbox_to_anchor=(1, 0.5))\n",
    "  plt.show()\n",
    "\n",
    "plotSimuResult(evo_result_list,mya_3)"
   ]
  },
  {
   "cell_type": "markdown",
   "metadata": {
    "id": "fxW2neDJDyVy"
   },
   "source": [
    "うまくいったようだ。変えられるよう、関数にしてしまうおう。"
   ]
  },
  {
   "cell_type": "code",
   "execution_count": 24,
   "metadata": {
    "colab": {
     "base_uri": "https://localhost:8080/",
     "height": 567
    },
    "id": "giA2_GC1Cr3H",
    "outputId": "2698f79f-7072-4039-960b-c5f69be6f5e3"
   },
   "outputs": [
    {
     "name": "stdout",
     "output_type": "stream",
     "text": [
      "\n",
      "none      ALL_A     ALL_B     Random    TFT       TFTT      TTFAT     Trigger   \n",
      "ALL_A            6.0       0.0      3.12       6.0       6.0       6.0       6.0\n",
      "ALL_B            8.0       2.0      5.12      2.06      2.12      2.06      2.06\n",
      "Random           6.9      1.04      4.26      3.78      5.48      2.64       1.2\n",
      "TFT              6.0      1.98      4.16       6.0       6.0       6.0       6.0\n",
      "TFTT             6.0      1.96      3.34       6.0       6.0       6.0       6.0\n",
      "TTFAT            6.0      1.98       4.4       6.0       6.0       6.0       6.0\n",
      "Trigger          6.0      1.98      4.62       6.0       6.0       6.0       6.0\n"
     ]
    },
    {
     "data": {
      "image/png": "[encoded data removed]",
      "text/plain": [
       "<Figure size 576x432 with 1 Axes>"
      ]
     },
     "metadata": {
      "needs_background": "light"
     },
     "output_type": "display_data"
    }
   ],
   "source": [
    "KK_mat = MatrixState(6,6,0,8,8,0,2,2)\n",
    "\n",
    "ROUND_N = 100\n",
    "\n",
    "#戦略のエージェントを用意\n",
    "All_A_02 = AllAAgentModel()\n",
    "All_B_02 = AllBAgentModel()\n",
    "Random_02 = RandomAgentModel()\n",
    "TFT_02 = TFTAgentModel()\n",
    "TFTT_03 = TFTTAgentModel()\n",
    "TTFAT_03 = TTFATAgentModel()\n",
    "Trigger_03 = TriggerAgentModel()\n",
    "\n",
    "#参加者のインスタンスのリスト\n",
    "join_instance_list = [All_A_02,All_B_02,Random_02,TFT_02,TFTT_03,TTFAT_03,Trigger_03]\n",
    "\n",
    "mya_3 = BattleResultList(join_instance_list,KK_mat)\n",
    "\n",
    "evo_result_list = EvoSimu(100,mya_3,100)\n",
    "\n",
    "plotSimuResult(evo_result_list,mya_3)"
   ]
  },
  {
   "cell_type": "code",
   "execution_count": null,
   "metadata": {
    "id": "ZQ-tkYf8Eb4A"
   },
   "outputs": [],
   "source": []
  }
 ],
 "metadata": {
  "colab": {
   "collapsed_sections": [],
   "name": "evo_simu.ipynb",
   "provenance": []
  },
  "kernelspec": {
   "display_name": "Python 3 (ipykernel)",
   "language": "python",
   "name": "python3"
  },
  "language_info": {
   "codemirror_mode": {
    "name": "ipython",
    "version": 3
   },
   "file_extension": ".py",
   "mimetype": "text/x-python",
   "name": "python",
   "nbconvert_exporter": "python",
   "pygments_lexer": "ipython3",
   "version": "3.9.12"
  }
 },
 "nbformat": 4,
 "nbformat_minor": 1
}
